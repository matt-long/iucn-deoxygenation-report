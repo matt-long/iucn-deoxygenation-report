{
 "cells": [
  {
   "cell_type": "code",
   "execution_count": 2,
   "metadata": {},
   "outputs": [],
   "source": [
    "%matplotlib inline\n",
    "from config_calc import *\n",
    "\n",
    "import matplotlib\n",
    "import matplotlib.pyplot as plt\n",
    "from cartopy.util import add_cyclic_point\n",
    "import matplotlib.gridspec as gridspec\n",
    "plt.rcParams['mathtext.default']='regular'\n",
    "\n",
    "import cmocean\n",
    "import plot_tools\n",
    "import proc_cesm_le"
   ]
  },
  {
   "cell_type": "code",
   "execution_count": 57,
   "metadata": {},
   "outputs": [
    {
     "name": "stdout",
     "output_type": "stream",
     "text": [
      "<xarray.Dataset>\n",
      "Dimensions:  (ens: 33, time: 181)\n",
      "Coordinates:\n",
      "  * time     (time) int64 1920 1921 1922 1923 1924 1925 1926 1927 1928 1929 ...\n",
      "Dimensions without coordinates: ens\n",
      "Data variables:\n",
      "    V60INT   (ens, time) float64 1.077e+17 1.077e+17 1.077e+17 1.076e+17 ...\n",
      "    V50INT   (ens, time) float64 8.847e+16 8.835e+16 8.829e+16 8.824e+16 ...\n",
      "    V5INT    (ens, time) float64 1.602e+16 1.584e+16 1.606e+16 1.608e+16 ...\n",
      "Attributes:\n",
      "    history:  Mon Oct 23 10:27:00 2017: ncks -O -4 tr85.001.ann_dft.O2.1920-2...\n",
      "    NCO:      4.6.7\n",
      "CPU times: user 179 ms, sys: 8 ms, total: 187 ms\n",
      "Wall time: 707 ms\n"
     ]
    }
   ],
   "source": [
    "files = sorted(glob(os.path.join(diro['out'],'volume_timeseries.ann_dft.ens_i_???.nc')))\n",
    "ds = []\n",
    "for i,f in enumerate(files):\n",
    "    dsi = xr.open_dataset(f,decode_times=False,decode_coords=False)\n",
    "    dsi = dsi.drop([v for v in dsi if v not in ['V5INT','V50INT','V60INT']])    \n",
    "    ds.append(dsi)\n",
    "ds = xr.concat(ds,dim='ens')\n",
    "ds['time'] = xr.DataArray(np.arange(1920,2101,1),dims=('time'))\n",
    "print ds"
   ]
  },
  {
   "cell_type": "markdown",
   "metadata": {},
   "source": [
    "### compute ensemble mean of CESM-LE"
   ]
  },
  {
   "cell_type": "code",
   "execution_count": 70,
   "metadata": {},
   "outputs": [
    {
     "name": "stdout",
     "output_type": "stream",
     "text": [
      "<xarray.Dataset>\n",
      "Dimensions:  ()\n",
      "Data variables:\n",
      "    V60INT   float64 1.076e+17\n",
      "    V50INT   float64 8.825e+16\n",
      "    V5INT    float64 1.605e+16\n"
     ]
    },
    {
     "data": {
      "text/plain": [
       "<xarray.Dataset>\n",
       "Dimensions:  (time: 181)\n",
       "Coordinates:\n",
       "  * time     (time) int64 1920 1921 1922 1923 1924 1925 1926 1927 1928 1929 ...\n",
       "Data variables:\n",
       "    V60INT   (time) float64 1.596e+14 1.009e+14 9.302e+13 2.176e+13 ...\n",
       "    V50INT   (time) float64 1.974e+14 1.66e+14 9.211e+13 1.923e+13 ...\n",
       "    V5INT    (time) float64 -5.552e+13 -9.851e+13 2.087e+13 2.104e+13 ..."
      ]
     },
     "execution_count": 70,
     "metadata": {},
     "output_type": "execute_result"
    }
   ],
   "source": [
    "dsa = ds.mean(dim='ens')\n",
    "dss = ds.std(dim='ens')\n",
    "\n",
    "cesm_baseline = dsa.sel(time=slice(1920,1939)).mean(dim='time')\n",
    "print cesm_baseline\n",
    "\n",
    "dsa = dsa - cesm_baseline\n",
    "dsa"
   ]
  },
  {
   "cell_type": "markdown",
   "metadata": {},
   "source": [
    "### load CMIP data"
   ]
  },
  {
   "cell_type": "code",
   "execution_count": 69,
   "metadata": {},
   "outputs": [
    {
     "name": "stdout",
     "output_type": "stream",
     "text": [
      "<xarray.Dataset>\n",
      "Dimensions:  ()\n",
      "Data variables:\n",
      "    V5INT    float64 1.585e+16\n",
      "    V50INT   float64 7.738e+16\n"
     ]
    },
    {
     "data": {
      "text/plain": [
       "<xarray.Dataset>\n",
       "Dimensions:  (time: 181)\n",
       "Coordinates:\n",
       "  * time     (time) int64 1920 1921 1922 1923 1924 1925 1926 1927 1928 1929 ...\n",
       "Data variables:\n",
       "    V5INT    (time) float64 9.867e+13 1.582e+14 -1.076e+13 -6.251e+12 ...\n",
       "    V50INT   (time) float64 6.855e+13 -3.016e+13 -6.981e+13 -4.122e+13 ..."
      ]
     },
     "execution_count": 69,
     "metadata": {},
     "output_type": "execute_result"
    }
   ],
   "source": [
    "files = ['IUCN_v5ts.nc','IUCN_v60ts.nc']\n",
    "files = ['data/'+f for f in files]\n",
    "cmip = xr.open_mfdataset(files)\n",
    "cmip = cmip.rename({'TIME1':'time'})\n",
    "cmip['time'] = xr.DataArray(np.arange(1861,2101,1),dims=('time'))\n",
    "cmip = cmip.sel(time=slice(1920,2100))\n",
    "\n",
    "cmip_baseline = cmip.sel(time=slice(1920,1939)).mean(dim='time')\n",
    "print cmip_baseline\n",
    "\n",
    "cmip = cmip - cmip_baseline\n",
    "cmip"
   ]
  },
  {
   "cell_type": "code",
   "execution_count": 7,
   "metadata": {},
   "outputs": [
    {
     "data": {
      "text/plain": [
       "(240,)"
      ]
     },
     "execution_count": 7,
     "metadata": {},
     "output_type": "execute_result"
    }
   ],
   "source": []
  },
  {
   "cell_type": "code",
   "execution_count": null,
   "metadata": {},
   "outputs": [],
   "source": [
    "plot_name = os.path.join(diro['fig'],'volume-census.pdf')\n",
    "fig = plt.figure(figsize=(6,6),dpi=300)\n",
    "\n",
    "gs = gridspec.GridSpec(2,1)\n",
    "\n",
    "label = {'V60INT': u'O$_2$ ≤ 60 mmol m$^{-3}$',\n",
    "         'V50INT': u'O$_2$ ≤ 50 mmol m$^{-3}$',\n",
    "         'V5INT': u'O$_2$ ≤ 5 mmol m$^{-3}$'}\n",
    "for i,v in enumerate(['V50INT','V5INT']):\n",
    "    ax = fig.add_subplot(gs[i,0])\n",
    "    \n",
    "    ax.fill_between(ds.time,(dsa[v].T-dss.V5INT)*1e-16,(dsa[v].T+dss[v])*1e-16,alpha=0.5)\n",
    "    ax.plot(ds.time,dsa[v].T*1e-16,label='CESM-LE')\n",
    "    ax.plot(cmip.time,cmip[v]*1e-16,label='CMIP5')\n",
    "    ylm = ax.get_ylim()\n",
    "    ax.text(1920,ylm[1]-0.15*np.diff(ylm),label[v],fontweight='bold')\n",
    "    ax.set_ylabel('Fractional volume change') #[10$^{16}$ m$^{3}$]')\n",
    "    ax.axhline(0,linewidth=0.5,color='black')\n",
    "\n",
    "\n",
    "axs = fig.get_axes()\n",
    "axs[0].set_xticklabels([])\n",
    "axs[-1].set_xlabel('Year')\n",
    "\n",
    "handles, labels = axs[0].get_legend_handles_labels()\n",
    "axs[0].legend(handles, labels,bbox_to_anchor=(0.1,0.25))\n",
    "\n",
    "\n",
    "gs.update(hspace=0.1)\n"
   ]
  },
  {
   "cell_type": "code",
   "execution_count": null,
   "metadata": {},
   "outputs": [],
   "source": []
  },
  {
   "cell_type": "code",
   "execution_count": null,
   "metadata": {},
   "outputs": [],
   "source": []
  }
 ],
 "metadata": {
  "kernelspec": {
   "display_name": "Python 2",
   "language": "python",
   "name": "python2"
  },
  "language_info": {
   "codemirror_mode": {
    "name": "ipython",
    "version": 2
   },
   "file_extension": ".py",
   "mimetype": "text/x-python",
   "name": "python",
   "nbconvert_exporter": "python",
   "pygments_lexer": "ipython2",
   "version": "2.7.13"
  }
 },
 "nbformat": 4,
 "nbformat_minor": 2
}
