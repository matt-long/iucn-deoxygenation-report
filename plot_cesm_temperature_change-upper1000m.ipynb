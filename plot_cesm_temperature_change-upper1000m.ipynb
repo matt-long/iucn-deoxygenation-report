{
 "cells": [
  {
   "cell_type": "markdown",
   "metadata": {},
   "source": [
    "# plot maps of temerapture change"
   ]
  },
  {
   "cell_type": "code",
   "execution_count": 1,
   "metadata": {},
   "outputs": [],
   "source": [
    "%matplotlib inline\n",
    "from config_calc import *\n",
    "\n",
    "import matplotlib\n",
    "import matplotlib.pyplot as plt\n",
    "from cartopy.util import add_cyclic_point\n",
    "import matplotlib.gridspec as gridspec\n",
    "plt.rcParams['mathtext.default']='regular'\n",
    "\n",
    "import cmocean\n",
    "import colorbrewer\n",
    "import plot_tools\n",
    "import proc_cesm_le"
   ]
  },
  {
   "cell_type": "markdown",
   "metadata": {},
   "source": [
    "### read the CESM-LE data"
   ]
  },
  {
   "cell_type": "code",
   "execution_count": 2,
   "metadata": {},
   "outputs": [
    {
     "name": "stdout",
     "output_type": "stream",
     "text": [
      "<xarray.Dataset>\n",
      "Dimensions:   (ens: 33, nlat: 384, nlon: 320, z_t: 60, z_t_150m: 15, z_w: 60)\n",
      "Coordinates:\n",
      "  * z_t       (z_t) float64 500.0 1.5e+03 2.5e+03 3.5e+03 4.5e+03 5.5e+03 ...\n",
      "  * z_t_150m  (z_t_150m) float32 500.0 1500.0 2500.0 3500.0 4500.0 5500.0 ...\n",
      "  * z_w       (z_w) float32 0.0 1000.0 2000.0 3000.0 4000.0 5000.0 6000.0 ...\n",
      "Dimensions without coordinates: ens, nlat, nlon\n",
      "Data variables:\n",
      "    TEMP      (ens, z_t, nlat, nlon) float32 nan nan nan nan nan nan nan nan ...\n",
      "    year      float64 170.5\n",
      "    KMT       (nlat, nlon) float64 0.0 0.0 0.0 0.0 0.0 0.0 0.0 0.0 0.0 0.0 ...\n",
      "    TAREA     (nlat, nlon) float64 1.125e+13 1.125e+13 1.124e+13 1.124e+13 ...\n",
      "    TLAT      (nlat, nlon) float64 -79.22 -79.22 -79.22 -79.22 -79.22 -79.22 ...\n",
      "    TLONG     (nlat, nlon) float64 320.6 321.7 322.8 323.9 325.1 326.2 327.3 ...\n",
      "    UAREA     (nlat, nlon) float64 1.423e+13 1.423e+13 1.423e+13 1.423e+13 ...\n",
      "    ULAT      (nlat, nlon) float64 -78.95 -78.95 -78.95 -78.95 -78.95 -78.95 ...\n",
      "    ULONG     (nlat, nlon) float64 321.1 322.3 323.4 324.5 325.6 326.8 327.9 ...\n",
      "    dz        (z_t) float64 1e+03 1e+03 1e+03 1e+03 1e+03 1e+03 1e+03 1e+03 ...\n",
      "<xarray.Dataset>\n",
      "Dimensions:   (ens: 33, nlat: 384, nlon: 320, z_t: 60, z_t_150m: 15, z_w: 60)\n",
      "Coordinates:\n",
      "  * z_t       (z_t) float64 500.0 1.5e+03 2.5e+03 3.5e+03 4.5e+03 5.5e+03 ...\n",
      "  * z_t_150m  (z_t_150m) float32 500.0 1500.0 2500.0 3500.0 4500.0 5500.0 ...\n",
      "  * z_w       (z_w) float32 0.0 1000.0 2000.0 3000.0 4000.0 5000.0 6000.0 ...\n",
      "Dimensions without coordinates: ens, nlat, nlon\n",
      "Data variables:\n",
      "    TEMP      (ens, z_t, nlat, nlon) float32 nan nan nan nan nan nan nan nan ...\n",
      "    KMT       (nlat, nlon) float64 0.0 0.0 0.0 0.0 0.0 0.0 0.0 0.0 0.0 0.0 ...\n",
      "    TAREA     (nlat, nlon) float64 1.125e+13 1.125e+13 1.124e+13 1.124e+13 ...\n",
      "    TLAT      (nlat, nlon) float64 -79.22 -79.22 -79.22 -79.22 -79.22 -79.22 ...\n",
      "    TLONG     (nlat, nlon) float64 320.6 321.7 322.8 323.9 325.1 326.2 327.3 ...\n",
      "    UAREA     (nlat, nlon) float64 1.423e+13 1.423e+13 1.423e+13 1.423e+13 ...\n",
      "    ULAT      (nlat, nlon) float64 -78.95 -78.95 -78.95 -78.95 -78.95 -78.95 ...\n",
      "    ULONG     (nlat, nlon) float64 321.1 322.3 323.4 324.5 325.6 326.8 327.9 ...\n",
      "    dz        (z_t) float64 1e+03 1e+03 1e+03 1e+03 1e+03 1e+03 1e+03 1e+03 ...\n",
      "    year      float64 1.93e+03\n",
      "CPU times: user 8.19 s, sys: 5.63 s, total: 13.8 s\n",
      "Wall time: 43.9 s\n"
     ]
    }
   ],
   "source": [
    "%%time\n",
    "tr85 = proc_cesm_le.open_ens('tr85','ann_dft_tanm',['TEMP'],isel={'time':-1})\n",
    "baseline = proc_cesm_le.open_ens('tr85','ann_dft_tavg_1920-1939',['TEMP'])\n",
    "print tr85\n",
    "print baseline"
   ]
  },
  {
   "cell_type": "code",
   "execution_count": null,
   "metadata": {},
   "outputs": [],
   "source": [
    "%%time\n",
    "tr85a = tr85.mean(dim='ens')\n",
    "baseline = baseline.mean(dim='ens')\n",
    "print tr85a"
   ]
  },
  {
   "cell_type": "code",
   "execution_count": null,
   "metadata": {},
   "outputs": [],
   "source": [
    "%%time\n",
    "tr85a = tr85a.compute()\n",
    "baseline = baseline.compute()"
   ]
  },
  {
   "cell_type": "code",
   "execution_count": null,
   "metadata": {},
   "outputs": [],
   "source": [
    "baseline.TEMP.plot()"
   ]
  },
  {
   "cell_type": "code",
   "execution_count": null,
   "metadata": {},
   "outputs": [],
   "source": [
    "tr85a.TEMP.plot()"
   ]
  },
  {
   "cell_type": "code",
   "execution_count": null,
   "metadata": {},
   "outputs": [],
   "source": [
    "Z = [[]]*2\n",
    "lon = tr85.TLONG.values\n",
    "lat = tr85.TLAT.values\n",
    "field = baseline.TEMP.values\n",
    "lon,lat,Z[0]= plot_tools.adjust_pop_grid(lon,lat,field)\n",
    "\n",
    "lon = tr85.TLONG.values\n",
    "lat = tr85.TLAT.values\n",
    "field = tr85a.TEMP.values\n",
    "lon,lat,Z[1]= plot_tools.adjust_pop_grid(lon,lat,field)\n",
    "\n",
    "for z in Z:\n",
    "    print z.shape\n",
    "print lon.shape\n",
    "print lat.shape"
   ]
  },
  {
   "cell_type": "code",
   "execution_count": null,
   "metadata": {},
   "outputs": [],
   "source": [
    "plot_name = os.path.join(diro['fig'],'cesm-sst.pdf')\n",
    "\n",
    "matplotlib.rcParams['contour.negative_linestyle'] = 'dashed'\n",
    "\n",
    "fig=plt.figure(figsize=(10, 4),dpi=300)\n",
    "gs = gridspec.GridSpec(2,1)\n",
    "\n",
    "\n",
    "obj = [[]]*2\n",
    "ax = []\n",
    "for i,z in enumerate(Z):\n",
    "    if i == 0:\n",
    "        levels = np.arange(-2.,34.,2.)\n",
    "        units = 'SST [$^\\circ$C]'\n",
    "        contour_specs = {'levels':levels,'cmap':cmocean.cm.thermal ,'extend':'both'}#,'norm':norm}\n",
    "    else:\n",
    "        levels = np.arange(-1.,6.5,0.5)\n",
    "        norm = plot_tools.MidPointNorm(midpoint=0)\n",
    "        units = '$\\Delta$SST [$^\\circ$C]'\n",
    "        contour_specs = {'levels':levels,'cmap':cmocean.cm.balance,'norm':norm,'extend':'both'}\n",
    "          \n",
    "    obj[i] = plot_tools.canvas_map_contour_overlay(lon,lat,z,\n",
    "                                                   contour_specs,\n",
    "                                                   units = units,\n",
    "                                                   fig=fig,\n",
    "                                                   gridspec=gs,\n",
    "                                                   row=i,col=0)\n",
    "    ax.append(obj[i]['ax'])\n",
    "\n",
    "gridspec_kwargs = {'hspace' : -0.1,\n",
    "                   'wspace' : 0.05,\n",
    "                   'left' : 0.,\n",
    "                   'right' : 0.87,\n",
    "                   'bottom' : 0.,\n",
    "                   'top' : 1.}\n",
    "fgsz = plot_tools.plotgrid(fig, gs, ax, [2,1],gridspec_kwargs)\n",
    "\n",
    "alp = [chr(i).upper() for i in range(97,97+26)]\n",
    "for i,axi in enumerate(ax):\n",
    "    p = axi.get_position()\n",
    "    y = p.y1-0.08\n",
    "    fig.text(0.03,y,'%s'%alp[i],\n",
    "             fontsize=14.,\n",
    "             fontweight = 'semibold')\n",
    "plt.savefig(plot_name,dpi=300,bbox_inches='tight')"
   ]
  }
 ],
 "metadata": {
  "kernelspec": {
   "display_name": "Python 2",
   "language": "python",
   "name": "python2"
  },
  "language_info": {
   "codemirror_mode": {
    "name": "ipython",
    "version": 2
   },
   "file_extension": ".py",
   "mimetype": "text/x-python",
   "name": "python",
   "nbconvert_exporter": "python",
   "pygments_lexer": "ipython2",
   "version": "2.7.13"
  }
 },
 "nbformat": 4,
 "nbformat_minor": 2
}
