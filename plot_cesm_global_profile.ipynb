{
 "cells": [
  {
   "cell_type": "code",
   "execution_count": 5,
   "metadata": {},
   "outputs": [],
   "source": [
    "%matplotlib inline\n",
    "from config_calc import *\n",
    "from glob import glob\n",
    "import matplotlib.pyplot as plt\n",
    "plt.rcParams['mathtext.default']='regular'\n",
    "import matplotlib.colors as colors\n",
    "import matplotlib.gridspec as gridspec\n",
    "import cmocean\n",
    "import colorbrewer\n",
    "import plot_tools\n",
    "\n",
    "from config_calc import *\n",
    "from proc_cesm_le import open_ens\n",
    "                                     "
   ]
  },
  {
   "cell_type": "code",
   "execution_count": 6,
   "metadata": {},
   "outputs": [
    {
     "data": {
      "text/plain": [
       "<xarray.Dataset>\n",
       "Dimensions:         (ens: 33, nlat: 384, nlon: 320, time: 182, z_t: 60, z_t_150m: 15, z_w: 60)\n",
       "Coordinates:\n",
       "  * z_t             (z_t) float64 500.0 1.5e+03 2.5e+03 3.5e+03 4.5e+03 ...\n",
       "  * z_t_150m        (z_t_150m) float32 500.0 1500.0 2500.0 3500.0 4500.0 ...\n",
       "  * z_w             (z_w) float32 0.0 1000.0 2000.0 3000.0 4000.0 5000.0 ...\n",
       "Dimensions without coordinates: ens, nlat, nlon, time\n",
       "Data variables:\n",
       "    KMT             (ens, nlat, nlon) float64 0.0 0.0 0.0 0.0 0.0 0.0 0.0 ...\n",
       "    TAREA           (ens, nlat, nlon) float64 1.125e+13 1.125e+13 1.124e+13 ...\n",
       "    TLAT            (ens, nlat, nlon) float64 -79.22 -79.22 -79.22 -79.22 ...\n",
       "    TLONG           (ens, nlat, nlon) float64 320.6 321.7 322.8 323.9 325.1 ...\n",
       "    UAREA           (ens, nlat, nlon) float64 1.423e+13 1.423e+13 1.423e+13 ...\n",
       "    ULAT            (ens, nlat, nlon) float64 -78.95 -78.95 -78.95 -78.95 ...\n",
       "    ULONG           (ens, nlat, nlon) float64 321.1 322.3 323.4 324.5 325.6 ...\n",
       "    dz              (ens, z_t) float64 1e+03 1e+03 1e+03 1e+03 1e+03 1e+03 ...\n",
       "    O2              (ens, time, z_t) float64 250.0 250.0 250.1 249.7 248.8 ...\n",
       "    vol_sum         (ens, z_t) float64 3.611e+21 3.611e+21 3.611e+21 ...\n",
       "    AOU             (ens, time, z_t) float64 1.188 1.304 1.738 2.73 5.086 ...\n",
       "    IAGE            (ens, time, z_t) float64 0.0 0.06972 0.2232 0.6768 1.465 ...\n",
       "    O2_CONSUMPTION  (ens, time, z_t) float64 5.009e-06 5.06e-06 5.201e-06 ...\n",
       "    O2_PRODUCTION   (ens, time, z_t) float64 1.068e-05 9.303e-06 8.035e-06 ...\n",
       "    O2sat           (ens, time, z_t) float64 251.2 251.3 251.9 252.5 253.9 ..."
      ]
     },
     "execution_count": 6,
     "metadata": {},
     "output_type": "execute_result"
    }
   ],
   "source": [
    "varlist = ['O2','AOU','IAGE','O2_CONSUMPTION','O2_PRODUCTION']\n",
    "op = 'ann_dft_aavg'\n",
    "\n",
    "#-- read datasets\n",
    "tr85 = open_ens('tr85',op,varlist)\n",
    "tr45 = open_ens('tr85',op,varlist)\n",
    "\n",
    "#-- compute derived\n",
    "v = 'O2sat'\n",
    "tr85[v] = tr85['AOU'] + tr85['O2']\n",
    "tr45[v] = tr45['AOU'] + tr45['O2']\n",
    "varlist.append(v)  \n",
    "tr85"
   ]
  },
  {
   "cell_type": "markdown",
   "metadata": {},
   "source": [
    "### compute ensemble mean"
   ]
  },
  {
   "cell_type": "code",
   "execution_count": 7,
   "metadata": {},
   "outputs": [
    {
     "data": {
      "text/plain": [
       "<xarray.Dataset>\n",
       "Dimensions:         (nlat: 384, nlon: 320, time: 182, z_t: 60, z_t_150m: 15, z_w: 60)\n",
       "Coordinates:\n",
       "  * z_t             (z_t) float64 500.0 1.5e+03 2.5e+03 3.5e+03 4.5e+03 ...\n",
       "  * z_t_150m        (z_t_150m) float32 500.0 1500.0 2500.0 3500.0 4500.0 ...\n",
       "  * z_w             (z_w) float32 0.0 1000.0 2000.0 3000.0 4000.0 5000.0 ...\n",
       "Dimensions without coordinates: nlat, nlon, time\n",
       "Data variables:\n",
       "    KMT             (nlat, nlon) float64 0.0 0.0 0.0 0.0 0.0 0.0 0.0 0.0 0.0 ...\n",
       "    TAREA           (nlat, nlon) float64 1.125e+13 1.125e+13 1.124e+13 ...\n",
       "    TLAT            (nlat, nlon) float64 -79.22 -79.22 -79.22 -79.22 -79.22 ...\n",
       "    TLONG           (nlat, nlon) float64 320.6 321.7 322.8 323.9 325.1 326.2 ...\n",
       "    UAREA           (nlat, nlon) float64 1.423e+13 1.423e+13 1.423e+13 ...\n",
       "    ULAT            (nlat, nlon) float64 -78.95 -78.95 -78.95 -78.95 -78.95 ...\n",
       "    ULONG           (nlat, nlon) float64 321.1 322.3 323.4 324.5 325.6 326.8 ...\n",
       "    dz              (z_t) float64 1e+03 1e+03 1e+03 1e+03 1e+03 1e+03 1e+03 ...\n",
       "    O2              (time, z_t) float64 250.0 250.0 250.1 249.7 248.8 246.6 ...\n",
       "    vol_sum         (z_t) float64 3.611e+21 3.611e+21 3.611e+21 3.554e+21 ...\n",
       "    AOU             (time, z_t) float64 1.188 1.304 1.738 2.73 5.086 9.231 ...\n",
       "    IAGE            (time, z_t) float64 0.0 0.06972 0.2232 0.6768 1.465 ...\n",
       "    O2_CONSUMPTION  (time, z_t) float64 5.009e-06 5.06e-06 5.201e-06 ...\n",
       "    O2_PRODUCTION   (time, z_t) float64 1.068e-05 9.303e-06 8.035e-06 ...\n",
       "    O2sat           (time, z_t) float64 251.2 251.3 251.9 252.5 253.9 255.8 ..."
      ]
     },
     "execution_count": 7,
     "metadata": {},
     "output_type": "execute_result"
    }
   ],
   "source": [
    "tr85a = tr85.mean(dim='ens')\n",
    "tr85a"
   ]
  },
  {
   "cell_type": "code",
   "execution_count": 8,
   "metadata": {},
   "outputs": [
    {
     "data": {
      "text/plain": [
       "<matplotlib.collections.QuadMesh at 0x2b810535a990>"
      ]
     },
     "execution_count": 8,
     "metadata": {},
     "output_type": "execute_result"
    },
    {
     "data": {
      "image/png": "[encoded data removed]",
      "text/plain": [
       "<matplotlib.figure.Figure at 0x2b8103e7a550>"
      ]
     },
     "metadata": {},
     "output_type": "display_data"
    }
   ],
   "source": [
    "tr85a.O2.plot()"
   ]
  },
  {
   "cell_type": "code",
   "execution_count": 9,
   "metadata": {},
   "outputs": [
    {
     "data": {
      "text/plain": [
       "<xarray.Dataset>\n",
       "Dimensions:         (nlat: 384, nlon: 320, z_t: 60, z_t_150m: 15, z_w: 60)\n",
       "Coordinates:\n",
       "  * z_t             (z_t) float64 500.0 1.5e+03 2.5e+03 3.5e+03 4.5e+03 ...\n",
       "  * z_t_150m        (z_t_150m) float32 500.0 1500.0 2500.0 3500.0 4500.0 ...\n",
       "  * z_w             (z_w) float32 0.0 1000.0 2000.0 3000.0 4000.0 5000.0 ...\n",
       "Dimensions without coordinates: nlat, nlon\n",
       "Data variables:\n",
       "    KMT             (nlat, nlon) float64 0.0 0.0 0.0 0.0 0.0 0.0 0.0 0.0 0.0 ...\n",
       "    TAREA           (nlat, nlon) float64 1.125e+13 1.125e+13 1.124e+13 ...\n",
       "    TLAT            (nlat, nlon) float64 -79.22 -79.22 -79.22 -79.22 -79.22 ...\n",
       "    TLONG           (nlat, nlon) float64 320.6 321.7 322.8 323.9 325.1 326.2 ...\n",
       "    UAREA           (nlat, nlon) float64 1.423e+13 1.423e+13 1.423e+13 ...\n",
       "    ULAT            (nlat, nlon) float64 -78.95 -78.95 -78.95 -78.95 -78.95 ...\n",
       "    ULONG           (nlat, nlon) float64 321.1 322.3 323.4 324.5 325.6 326.8 ...\n",
       "    dz              (z_t) float64 1e+03 1e+03 1e+03 1e+03 1e+03 1e+03 1e+03 ...\n",
       "    O2              (z_t) float64 250.2 250.2 250.3 249.9 249.1 246.9 242.9 ...\n",
       "    vol_sum         (z_t) float64 3.611e+21 3.611e+21 3.611e+21 3.554e+21 ...\n",
       "    AOU             (z_t) float64 1.216 1.347 1.797 2.728 4.995 9.032 14.99 ...\n",
       "    IAGE            (z_t) float64 0.0 0.07097 0.2189 0.6558 1.416 2.505 ...\n",
       "    O2_CONSUMPTION  (z_t) float64 5.013e-06 5.065e-06 5.211e-06 4.945e-06 ...\n",
       "    O2_PRODUCTION   (z_t) float64 1.083e-05 9.392e-06 8.073e-06 6.834e-06 ...\n",
       "    O2sat           (z_t) float64 251.4 251.5 252.1 252.7 254.1 255.9 257.9 ..."
      ]
     },
     "execution_count": 9,
     "metadata": {},
     "output_type": "execute_result"
    }
   ],
   "source": [
    "baseline = tr85a.isel(time=slice(0,20)).mean(dim='time')\n",
    "baseline"
   ]
  },
  {
   "cell_type": "code",
   "execution_count": 24,
   "metadata": {},
   "outputs": [
    {
     "data": {
      "text/plain": [
       "<xarray.Dataset>\n",
       "Dimensions:         (time: 182, z_t: 60)\n",
       "Coordinates:\n",
       "  * z_t             (z_t) float64 500.0 1.5e+03 2.5e+03 3.5e+03 4.5e+03 ...\n",
       "Dimensions without coordinates: time\n",
       "Data variables:\n",
       "    O2              (time, z_t) float64 -0.1476 -0.1346 -0.1358 -0.2203 ...\n",
       "    AOU             (time, z_t) float64 -0.02811 -0.04303 -0.05814 0.001833 ...\n",
       "    IAGE            (time, z_t) float64 0.0 -0.001243 0.004291 0.02105 ...\n",
       "    O2_CONSUMPTION  (time, z_t) float64 -4.469e-09 -4.639e-09 -9.96e-09 ...\n",
       "    O2_PRODUCTION   (time, z_t) float64 -1.5e-07 -8.817e-08 -3.899e-08 ...\n",
       "    O2sat           (time, z_t) float64 -0.1757 -0.1776 -0.194 -0.2184 ..."
      ]
     },
     "execution_count": 24,
     "metadata": {},
     "output_type": "execute_result"
    }
   ],
   "source": [
    "delta = tr85a - baseline\n",
    "delta = delta.drop([k for k in delta if k not in varlist])\n",
    "delta['z_t'] = tr85a.z_t\n",
    "delta"
   ]
  },
  {
   "cell_type": "code",
   "execution_count": 25,
   "metadata": {},
   "outputs": [
    {
     "data": {
      "text/plain": [
       "[<matplotlib.lines.Line2D at 0x2b82f3a13110>]"
      ]
     },
     "execution_count": 25,
     "metadata": {},
     "output_type": "execute_result"
    },
    {
     "data": {
      "image/png": "[encoded data removed]",
      "text/plain": [
       "<matplotlib.figure.Figure at 0x2b82f08225d0>"
      ]
     },
     "metadata": {},
     "output_type": "display_data"
    }
   ],
   "source": [
    "delta.O2[-1,:].plot(); delta.AOU[-1,:].plot(); delta.O2sat[-1,:].plot()"
   ]
  },
  {
   "cell_type": "code",
   "execution_count": 26,
   "metadata": {},
   "outputs": [
    {
     "ename": "AttributeError",
     "evalue": "'Dataset' object has no attribute 'OUR'",
     "output_type": "error",
     "traceback": [
      "\u001b[0;31m\u001b[0m",
      "\u001b[0;31mAttributeError\u001b[0mTraceback (most recent call last)",
      "\u001b[0;32m<ipython-input-26-0c5d927b2d59>\u001b[0m in \u001b[0;36m<module>\u001b[0;34m()\u001b[0m\n\u001b[1;32m      1\u001b[0m \u001b[0mdelta\u001b[0m\u001b[0;34m[\u001b[0m\u001b[0;34m'AOU_circulation'\u001b[0m\u001b[0;34m]\u001b[0m \u001b[0;34m=\u001b[0m \u001b[0mdelta\u001b[0m\u001b[0;34m.\u001b[0m\u001b[0mIAGE\u001b[0m \u001b[0;34m*\u001b[0m \u001b[0mbaseline\u001b[0m\u001b[0;34m.\u001b[0m\u001b[0mOUR\u001b[0m\u001b[0;34m\u001b[0m\u001b[0m\n\u001b[0;32m----> 2\u001b[0;31m \u001b[0mdelta\u001b[0m\u001b[0;34m[\u001b[0m\u001b[0;34m'AOU_our'\u001b[0m\u001b[0;34m]\u001b[0m \u001b[0;34m=\u001b[0m \u001b[0mbaseline\u001b[0m\u001b[0;34m.\u001b[0m\u001b[0mIAGE\u001b[0m \u001b[0;34m*\u001b[0m \u001b[0mdelta\u001b[0m\u001b[0;34m.\u001b[0m\u001b[0mOUR\u001b[0m\u001b[0;34m\u001b[0m\u001b[0m\n\u001b[0m\u001b[1;32m      3\u001b[0m \u001b[0mdelta\u001b[0m\u001b[0;34m[\u001b[0m\u001b[0;34m'AOU_est'\u001b[0m\u001b[0;34m]\u001b[0m \u001b[0;34m=\u001b[0m \u001b[0mdelta\u001b[0m\u001b[0;34m.\u001b[0m\u001b[0mAOU_circulation\u001b[0m \u001b[0;34m+\u001b[0m \u001b[0mdelta\u001b[0m\u001b[0;34m.\u001b[0m\u001b[0mAOU_our\u001b[0m\u001b[0;34m\u001b[0m\u001b[0m\n\u001b[1;32m      4\u001b[0m \u001b[0;34m\u001b[0m\u001b[0m\n\u001b[1;32m      5\u001b[0m \u001b[0mdelta\u001b[0m\u001b[0;34m.\u001b[0m\u001b[0mAOU_est\u001b[0m\u001b[0;34m.\u001b[0m\u001b[0mplot\u001b[0m\u001b[0;34m(\u001b[0m\u001b[0;34m)\u001b[0m \u001b[0;34m;\u001b[0m \u001b[0mdelta\u001b[0m\u001b[0;34m.\u001b[0m\u001b[0mAOU\u001b[0m\u001b[0;34m.\u001b[0m\u001b[0mplot\u001b[0m\u001b[0;34m(\u001b[0m\u001b[0;34m)\u001b[0m\u001b[0;34m\u001b[0m\u001b[0m\n",
      "\u001b[0;32m/glade/p/work/mclong/miniconda2/lib/python2.7/site-packages/xarray/core/common.pyc\u001b[0m in \u001b[0;36m__getattr__\u001b[0;34m(self, name)\u001b[0m\n\u001b[1;32m    166\u001b[0m                     \u001b[0;32mreturn\u001b[0m \u001b[0msource\u001b[0m\u001b[0;34m[\u001b[0m\u001b[0mname\u001b[0m\u001b[0;34m]\u001b[0m\u001b[0;34m\u001b[0m\u001b[0m\n\u001b[1;32m    167\u001b[0m         raise AttributeError(\"%r object has no attribute %r\" %\n\u001b[0;32m--> 168\u001b[0;31m                              (type(self).__name__, name))\n\u001b[0m\u001b[1;32m    169\u001b[0m \u001b[0;34m\u001b[0m\u001b[0m\n\u001b[1;32m    170\u001b[0m     \u001b[0;32mdef\u001b[0m \u001b[0m__setattr__\u001b[0m\u001b[0;34m(\u001b[0m\u001b[0mself\u001b[0m\u001b[0;34m,\u001b[0m \u001b[0mname\u001b[0m\u001b[0;34m,\u001b[0m \u001b[0mvalue\u001b[0m\u001b[0;34m)\u001b[0m\u001b[0;34m:\u001b[0m\u001b[0;34m\u001b[0m\u001b[0m\n",
      "\u001b[0;31mAttributeError\u001b[0m: 'Dataset' object has no attribute 'OUR'"
     ]
    }
   ],
   "source": [
    "delta['AOU_circulation'] = delta.IAGE * baseline.OUR\n",
    "delta['AOU_our'] = baseline.IAGE * delta.OUR\n",
    "delta['AOU_est'] = delta.AOU_circulation + delta.AOU_our\n",
    "\n",
    "delta.AOU_est.plot() ; delta.AOU.plot()"
   ]
  },
  {
   "cell_type": "code",
   "execution_count": null,
   "metadata": {},
   "outputs": [],
   "source": [
    "plot_name = os.path.join(diro['fig'],'cesm_o2_change_profile.pdf')\n",
    "\n",
    "fig = plt.figure(dpi=300,figsize=(4,6),facecolor='w')\n",
    "gs = gridspec.GridSpec(1,1)\n",
    "ax = fig.add_subplot(gs[0,0])\n",
    "\n",
    "ax.plot(delta.O2[-1,:],delta.z_t*1e-2,label='Total O$_2$ change')\n",
    "ax.plot(-delta.AOU[-1,:],delta.z_t*1e-2,label='Respiration-driven')\n",
    "ax.plot(delta.O2sat[-1,:],delta.z_t*1e-2,label='Solubility-driven')\n",
    "\n",
    "ax.axvline(x=0,linewidth=0.5,color='k',zorder=-10)\n",
    "\n",
    "ax.set_ylim((5000,0))\n",
    "handles, labels = ax.get_legend_handles_labels()\n",
    "ax.legend(handles, labels)\n",
    "\n",
    "ax.set_ylabel('Depth [m]')\n",
    "ax.set_xlabel('Dissolved oxygen change [mmol m$^{-3}$]')"
   ]
  },
  {
   "cell_type": "code",
   "execution_count": null,
   "metadata": {},
   "outputs": [],
   "source": []
  }
 ],
 "metadata": {
  "kernelspec": {
   "display_name": "Python 2",
   "language": "python",
   "name": "python2"
  },
  "language_info": {
   "codemirror_mode": {
    "name": "ipython",
    "version": 2
   },
   "file_extension": ".py",
   "mimetype": "text/x-python",
   "name": "python",
   "nbconvert_exporter": "python",
   "pygments_lexer": "ipython2",
   "version": "2.7.13"
  }
 },
 "nbformat": 4,
 "nbformat_minor": 2
}
