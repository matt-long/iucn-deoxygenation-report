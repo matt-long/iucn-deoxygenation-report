{
 "cells": [
  {
   "cell_type": "code",
   "execution_count": 2,
   "metadata": {},
   "outputs": [],
   "source": [
    "%matplotlib inline\n",
    "from config_calc import *\n",
    "from glob import glob\n",
    "import matplotlib.pyplot as plt\n",
    "plt.rcParams['mathtext.default']='regular'\n",
    "import matplotlib.colors as colors\n",
    "\n",
    "import cmocean\n",
    "import colorbrewer\n",
    "import plot_tools\n",
    "\n",
    "from config_calc import *\n",
    "from proc_cesm_le import open_ens\n",
    "                                     "
   ]
  },
  {
   "cell_type": "code",
   "execution_count": 3,
   "metadata": {},
   "outputs": [
    {
     "data": {
      "text/plain": [
       "<xarray.Dataset>\n",
       "Dimensions:  (ens: 33, nlat: 384, nlon: 320, time: 182, z_t: 60)\n",
       "Dimensions without coordinates: ens, nlat, nlon, time, z_t\n",
       "Data variables:\n",
       "    KMT      (ens, nlat, nlon) float64 0.0 0.0 0.0 0.0 0.0 0.0 0.0 0.0 0.0 ...\n",
       "    TAREA    (ens, nlat, nlon) float64 1.125e+13 1.125e+13 1.124e+13 ...\n",
       "    TLAT     (ens, nlat, nlon) float64 -79.22 -79.22 -79.22 -79.22 -79.22 ...\n",
       "    TLONG    (ens, nlat, nlon) float64 320.6 321.7 322.8 323.9 325.1 326.2 ...\n",
       "    UAREA    (ens, nlat, nlon) float64 1.423e+13 1.423e+13 1.423e+13 ...\n",
       "    ULAT     (ens, nlat, nlon) float64 -78.95 -78.95 -78.95 -78.95 -78.95 ...\n",
       "    ULONG    (ens, nlat, nlon) float64 321.1 322.3 323.4 324.5 325.6 326.8 ...\n",
       "    O2       (ens, time, z_t) float64 9.029e+20 9.03e+20 9.033e+20 8.874e+20 ...\n",
       "    AOU      (ens, time, z_t) float64 4.29e+18 4.708e+18 6.278e+18 9.702e+18 ...\n",
       "    O2sat    (ens, time, z_t) float64 9.072e+20 9.077e+20 9.096e+20 ..."
      ]
     },
     "execution_count": 3,
     "metadata": {},
     "output_type": "execute_result"
    }
   ],
   "source": [
    "varlist = ['O2','AOU'] #,'TEMP']\n",
    "op = 'ann_dft_aavg'\n",
    "\n",
    "#-- read datasets\n",
    "tr85 = open_ens('tr85',op,varlist)\n",
    "tr45 = open_ens('tr85',op,varlist)\n",
    "\n",
    "#-- compute derived\n",
    "v = 'O2sat'\n",
    "tr85[v] = tr85['AOU'] + tr85['O2']\n",
    "tr45[v] = tr45['AOU'] + tr45['O2']\n",
    "varlist.append(v)  \n",
    "tr85"
   ]
  },
  {
   "cell_type": "markdown",
   "metadata": {},
   "source": [
    "### compute ensemble mean"
   ]
  },
  {
   "cell_type": "code",
   "execution_count": 4,
   "metadata": {},
   "outputs": [
    {
     "data": {
      "text/plain": [
       "<xarray.Dataset>\n",
       "Dimensions:  (nlat: 384, nlon: 320, time: 182, z_t: 60)\n",
       "Dimensions without coordinates: nlat, nlon, time, z_t\n",
       "Data variables:\n",
       "    KMT      (nlat, nlon) float64 0.0 0.0 0.0 0.0 0.0 0.0 0.0 0.0 0.0 0.0 ...\n",
       "    TAREA    (nlat, nlon) float64 1.125e+13 1.125e+13 1.124e+13 1.124e+13 ...\n",
       "    TLAT     (nlat, nlon) float64 -79.22 -79.22 -79.22 -79.22 -79.22 -79.22 ...\n",
       "    TLONG    (nlat, nlon) float64 320.6 321.7 322.8 323.9 325.1 326.2 327.3 ...\n",
       "    UAREA    (nlat, nlon) float64 1.423e+13 1.423e+13 1.423e+13 1.423e+13 ...\n",
       "    ULAT     (nlat, nlon) float64 -78.95 -78.95 -78.95 -78.95 -78.95 -78.95 ...\n",
       "    ULONG    (nlat, nlon) float64 321.1 322.3 323.4 324.5 325.6 326.8 327.9 ...\n",
       "    O2       (time, z_t) float64 9.029e+20 9.03e+20 9.033e+20 8.874e+20 ...\n",
       "    AOU      (time, z_t) float64 4.29e+18 4.708e+18 6.278e+18 9.702e+18 ...\n",
       "    O2sat    (time, z_t) float64 9.072e+20 9.077e+20 9.096e+20 8.971e+20 ..."
      ]
     },
     "execution_count": 4,
     "metadata": {},
     "output_type": "execute_result"
    }
   ],
   "source": [
    "tr85a = tr85.mean(dim='ens')\n",
    "tr85a"
   ]
  },
  {
   "cell_type": "code",
   "execution_count": 7,
   "metadata": {},
   "outputs": [
    {
     "data": {
      "text/plain": [
       "<matplotlib.collections.QuadMesh at 0x2b55d3d2d510>"
      ]
     },
     "execution_count": 7,
     "metadata": {},
     "output_type": "execute_result"
    },
    {
     "data": {
      "image/png": "[encoded data removed]",
      "text/plain": [
       "<matplotlib.figure.Figure at 0x2b55d4652ad0>"
      ]
     },
     "metadata": {},
     "output_type": "display_data"
    }
   ],
   "source": [
    "tr85a.O2.plot()"
   ]
  },
  {
   "cell_type": "code",
   "execution_count": null,
   "metadata": {},
   "outputs": [],
   "source": []
  }
 ],
 "metadata": {
  "kernelspec": {
   "display_name": "Python 2",
   "language": "python",
   "name": "python2"
  },
  "language_info": {
   "codemirror_mode": {
    "name": "ipython",
    "version": 2
   },
   "file_extension": ".py",
   "mimetype": "text/x-python",
   "name": "python",
   "nbconvert_exporter": "python",
   "pygments_lexer": "ipython2",
   "version": "2.7.13"
  }
 },
 "nbformat": 4,
 "nbformat_minor": 2
}
