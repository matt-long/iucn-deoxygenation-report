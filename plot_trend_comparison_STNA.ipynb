{
 "cells": [
  {
   "cell_type": "code",
   "execution_count": 1,
   "metadata": {},
   "outputs": [],
   "source": [
    "%matplotlib inline\n",
    "from config_calc import *\n",
    "\n",
    "import matplotlib\n",
    "import matplotlib.pyplot as plt\n",
    "from cartopy.util import add_cyclic_point\n",
    "import matplotlib.gridspec as gridspec\n",
    "plt.rcParams['mathtext.default']='regular'\n",
    "\n",
    "import cmocean\n",
    "import plot_tools\n",
    "import grid_tools\n",
    "\n",
    "import cartopy\n",
    "import cartopy.crs as ccrs\n",
    "\n",
    "import scipy.io as sio"
   ]
  },
  {
   "cell_type": "code",
   "execution_count": 2,
   "metadata": {},
   "outputs": [
    {
     "name": "stdout",
     "output_type": "stream",
     "text": [
      "R2le\n",
      "(34,)\n",
      "\n",
      "suff\n",
      "(34,)\n",
      "\n",
      "SEcore\n",
      "SEcore\n",
      "\n",
      "TRcore\n",
      "TRcore\n",
      "\n",
      "trend1core\n",
      "(360, 180)\n",
      "\n",
      "TRobs\n",
      "TRobs\n",
      "\n",
      "trend1obs\n",
      "(360, 180)\n",
      "\n",
      "STNAo2obs\n",
      "(40,)\n",
      "\n",
      "trend1le\n",
      "(360, 180, 34)\n",
      "\n",
      "SEle\n",
      "(34,)\n",
      "\n",
      "STNAo2le\n",
      "(40, 34)\n",
      "\n",
      "tval95le\n",
      "(34,)\n",
      "\n",
      "tval95obs\n",
      "tval95obs\n",
      "\n",
      "TRle\n",
      "(34,)\n",
      "\n",
      "R2obs\n",
      "R2obs\n",
      "\n",
      "R2core\n",
      "R2core\n",
      "\n",
      "STNAo2core\n",
      "(40,)\n",
      "\n",
      "SEobs\n",
      "SEobs\n",
      "\n",
      "tval95core\n",
      "tval95core\n",
      "\n"
     ]
    }
   ],
   "source": [
    "matdata = sio.loadmat('data/o2trend_1970_2010_400m.mat',squeeze_me=True)\n",
    "for k in matdata.keys():\n",
    "    if '__' in k: continue\n",
    "    print k\n",
    "    try:\n",
    "        print matdata[k].shape\n",
    "    except:\n",
    "        print k\n",
    "\n",
    "    print"
   ]
  },
  {
   "cell_type": "code",
   "execution_count": 3,
   "metadata": {},
   "outputs": [
    {
     "name": "stdout",
     "output_type": "stream",
     "text": [
      "<xarray.Dataset>\n",
      "Dimensions:  (time: 40)\n",
      "Coordinates:\n",
      "  * time     (time) float64 1.97e+03 1.972e+03 1.972e+03 1.974e+03 1.974e+03 ...\n",
      "Data variables:\n",
      "    o2       (time) float64 2.701 0.2846 2.974 3.184 -0.4485 1.373 -0.01716 ...\n"
     ]
    }
   ],
   "source": [
    "time = xr.DataArray(np.arange(1970.5,2010.5,1),dims=('time'),coords={'time':np.arange(1970.5,2010.5,1)})\n",
    "\n",
    "cesm_o2 = xr.DataArray(matdata['STNAo2le'],dims=('time','ens'),\n",
    "                       coords={'time':time})\n",
    "trle = xr.DataArray(matdata['TRle'],dims=('ens'))\n",
    "\n",
    "trobs = matdata['TRobs']\n",
    "seobs = matdata['SEobs']\n",
    "\n",
    "obs_o2 = xr.DataArray(matdata['STNAo2obs'],dims=('time'),coords={'time':time})\n",
    "obs = xr.Dataset({'o2':obs_o2})\n",
    "print obs"
   ]
  },
  {
   "cell_type": "code",
   "execution_count": 4,
   "metadata": {},
   "outputs": [
    {
     "data": {
      "text/plain": [
       "array([ 9, 10, 29, 30])"
      ]
     },
     "execution_count": 4,
     "metadata": {},
     "output_type": "execute_result"
    }
   ],
   "source": [
    "I = np.where(trle<np.percentile(trle,10))[0]\n",
    "I"
   ]
  },
  {
   "cell_type": "code",
   "execution_count": 5,
   "metadata": {},
   "outputs": [
    {
     "data": {
      "text/plain": [
       "<xarray.Dataset>\n",
       "Dimensions:  (ens: 34, lat: 180, lon: 360)\n",
       "Coordinates:\n",
       "  * lat      (lat) float64 -89.5 -88.5 -87.5 -86.5 -85.5 -84.5 -83.5 -82.5 ...\n",
       "  * lon      (lon) float64 0.5 1.5 2.5 3.5 4.5 5.5 6.5 7.5 8.5 9.5 10.5 11.5 ...\n",
       "Dimensions without coordinates: ens\n",
       "Data variables:\n",
       "    LE10     (lat, lon) float64 nan nan nan nan nan nan nan nan nan nan nan ...\n",
       "    LE       (lat, lon, ens) float64 nan nan nan nan nan nan nan nan nan nan ...\n",
       "    obs      (lat, lon) float64 nan nan nan nan nan nan nan nan nan nan nan ..."
      ]
     },
     "execution_count": 5,
     "metadata": {},
     "output_type": "execute_result"
    }
   ],
   "source": [
    "nx = 360\n",
    "ny = 180\n",
    "grid = grid_tools.generate_latlon_grid(nx=nx,ny=ny,lon0=0.)\n",
    "#grid['lon'] = np.where(grid.lon>180,grid.lon-360,grid.lon)\n",
    "trend_le = xr.DataArray(matdata['trend1le'],dims=('lon','lat','ens'),coords={'lon':grid.lon,'lat':grid.lat})\n",
    "trend_obs = xr.DataArray(matdata['trend1obs'],dims=('lon','lat'),coords={'lon':grid.lon,'lat':grid.lat})\n",
    "\n",
    "trend_map = xr.Dataset({'LE':trend_le,'obs':trend_obs,'LE10':trend_le.isel(ens=I).mean(dim='ens')})\n",
    "trend_map = trend_map.transpose('lat','lon','ens')\n",
    "trend_map\n"
   ]
  },
  {
   "cell_type": "code",
   "execution_count": 6,
   "metadata": {},
   "outputs": [
    {
     "data": {
      "text/plain": [
       "<matplotlib.collections.QuadMesh at 0x11233f990>"
      ]
     },
     "execution_count": 6,
     "metadata": {},
     "output_type": "execute_result"
    },
    {
     "data": {
      "image/png": "[encoded data removed]",
      "text/plain": [
       "<matplotlib.figure.Figure at 0x1068b3050>"
      ]
     },
     "metadata": {},
     "output_type": "display_data"
    }
   ],
   "source": [
    "trend_map.obs.plot()"
   ]
  },
  {
   "cell_type": "code",
   "execution_count": null,
   "metadata": {},
   "outputs": [
    {
     "data": {
      "text/plain": [
       "<xarray.Dataset>\n",
       "Dimensions:    (time: 8, time_bins: 8)\n",
       "Coordinates:\n",
       "  * time_bins  (time_bins) object (1970, 1975] (1975, 1980] (1980, 1985] ...\n",
       "  * time       (time) float64 1.972e+03 1.978e+03 1.982e+03 1.988e+03 ...\n",
       "Data variables:\n",
       "    o2         (time_bins) float64 1.739 2.124 2.911 1.606 2.006 -0.234 ...\n",
       "    o2_std     (time_bins) float64 1.512 1.733 1.708 2.314 2.895 2.522 1.729 ..."
      ]
     },
     "execution_count": 7,
     "metadata": {},
     "output_type": "execute_result"
    }
   ],
   "source": [
    "pentads = np.arange(1970,2015,5)\n",
    "obs5 = obs.groupby_bins('time',pentads).mean(dim='time')\n",
    "obs5['o2_std'] = obs.o2.groupby_bins('time',pentads).std(dim='time')\n",
    "obs5['time'] = np.vstack((pentads[:-1],pentads[1:])).mean(axis=0)\n",
    "obs5"
   ]
  },
  {
   "cell_type": "code",
   "execution_count": null,
   "metadata": {},
   "outputs": [
    {
     "name": "stdout",
     "output_type": "stream",
     "text": [
      "[-0.5, '', -0.4, '', -0.3, '', -0.2, '', -0.1, '', '0', '', 0.1, '', 0.2, '', 0.3, '', 0.4, '', 0.5]\n"
     ]
    }
   ],
   "source": [
    "from cartopy.util import add_cyclic_point\n",
    "\n",
    "plot_name = os.path.join(diro['fig'],'obs-cesm-stna-trends.pdf')\n",
    "\n",
    "fig = plt.figure(dpi=300,figsize=(12,10),facecolor='w')\n",
    "gs = gridspec.GridSpec(2,6)\n",
    "\n",
    "#cesmplot = cesm_le.sel(basin='Global',depth=400)\n",
    "#cesmplota = cesmplot.mean(dim='ens')\n",
    "\n",
    "#------------------------------------------------------------------------------\n",
    "#-- plot time series\n",
    "#------------------------------------------------------------------------------\n",
    "\n",
    "ax = fig.add_subplot(gs[0,0:3])\n",
    "\n",
    "po = ax.errorbar(obs5.time,obs5.o2, yerr=obs5.o2_std,linewidth=2,\n",
    "           label = 'Observations')\n",
    "\n",
    "pe = ax.plot(cesm_o2.time,cesm_o2-cesm_o2.mean(),color='gray',linewidth=0.5,\n",
    "       label='CESM-LE')\n",
    "pa = ax.plot(cesm_o2.time,cesm_o2.mean(dim='ens')-cesm_o2.mean(),color='k',linewidth=2,\n",
    "       label='CESM-LE mean')\n",
    "\n",
    "ax.legend([po,pe[0],pa[0]],['Observations','CESM-LE','CESM-LE mean'])\n",
    "\n",
    "ax.set_ylabel('O$_2$ anomaly at 400 m [mmol m$^{-3}$]')\n",
    "ax.set_xlabel('Year')\n",
    "\n",
    "#------------------------------------------------------------------------------\n",
    "#-- plot hist\n",
    "#------------------------------------------------------------------------------\n",
    "\n",
    "ax = fig.add_subplot(gs[0,3:6])\n",
    "\n",
    "n,bins,ph = ax.hist(trle,9,color='gray')\n",
    "\n",
    "b = np.diff(bins)[0]\n",
    "x = np.arange(-0.25,0.051,0.001)\n",
    "s = trle.std().values\n",
    "m = trle.mean().values\n",
    "\n",
    "y = b * 34. / (s * np.sqrt(2.*np.pi)) * np.exp(-0.5*((x-m)/s)**2)\n",
    "\n",
    "pg = ax.plot(x,y,color='k',linewidth=2.)\n",
    "\n",
    "ylim = ax.get_ylim()\n",
    "\n",
    "#------------------------------------------------------------------------------\n",
    "#-- plot obs trend on hist\n",
    "#------------------------------------------------------------------------------\n",
    "\n",
    "x = np.arange(trobs-seobs,\n",
    "              trobs+seobs+0.001,0.001)\n",
    "ax.fill_between(x,ylim[0],ylim[1],alpha=0.2)\n",
    "po = ax.axvline(trobs,linewidth=2.)\n",
    "\n",
    "ps = ax.axvline(x[0],linestyle='--',linewidth=1)\n",
    "ax.axvline(x[-1],linestyle='--',linewidth=1)\n",
    "xlim = ax.get_xlim()\n",
    "\n",
    "ax.set_xlim((xlim[0],0.05))\n",
    "ax.set_ylim(ylim)\n",
    "\n",
    "ax.set_ylabel('Number of realizations in CESM-LE')\n",
    "ax.set_xlabel('O$_2$ linear trend at 400 m [mmol m$^{-3}$ yr$^{-1}$]')\n",
    "\n",
    "ax.legend([po,ps,pg[0],ph[0]],['Observed trend','Obs$\\pm$SE','Gaussian fit','CESM-LE'])\n",
    "\n",
    "#------------------------------------------------------------------------------\n",
    "#-- plot maps\n",
    "#------------------------------------------------------------------------------\n",
    "contour_spec = {'levels':np.arange(-0.5,0.55,0.05),'cmap':cmocean.cm.delta,'extend':'both'}\n",
    "\n",
    "box_top = 35.\n",
    "box_bot = 15.\n",
    "x, y = [-87, -87, 0, 0, -87], [box_bot, box_top, box_top, box_bot, box_bot]\n",
    "\n",
    "#------------------------------------------------------------------------------\n",
    "#--- obs\n",
    "#------------------------------------------------------------------------------\n",
    "ax = fig.add_subplot(gs[1,0:2],projection=ccrs.Mollweide(central_longitude=-35.0))\n",
    "ax.set_extent([-90,20,-20,80])\n",
    "lon = trend_map.lon.values\n",
    "lat = trend_map.lat.values\n",
    "z = trend_map.obs.values\n",
    "lon = np.where(lon<0.,lon+360.,lon)\n",
    "I = np.argsort(lon)\n",
    "lon = lon[I]\n",
    "z = z[:,I]\n",
    "z,lon = add_cyclic_point(z,coord=lon)\n",
    "\n",
    "ax.contourf(lon,lat,z,transform=ccrs.PlateCarree(),**contour_spec) \n",
    "land = ax.add_feature(\n",
    "        cartopy.feature.NaturalEarthFeature('physical','land','110m',\n",
    "                                            edgecolor='face',\n",
    "                                            facecolor='black'))\n",
    "\n",
    "\n",
    "\n",
    "ax.plot(x, y, linewidth=2.,color='#ff7f0e', transform=ccrs.PlateCarree())\n",
    "    \n",
    "ax.set_title('Observations')\n",
    "\n",
    "#------------------------------------------------------------------------------\n",
    "#--- 10%\n",
    "#------------------------------------------------------------------------------\n",
    "\n",
    "ax = fig.add_subplot(gs[1,2:4],projection=ccrs.Mollweide(central_longitude=-35.0))\n",
    "ax.set_extent([-90,20,-20,80])\n",
    "lon = trend_map.lon.values\n",
    "\n",
    "lat = trend_map.lat.values\n",
    "z = trend_map.LE10.values\n",
    "lon = np.where(lon<0.,lon+360.,lon)\n",
    "I = np.argsort(lon)\n",
    "lon = lon[I]\n",
    "z = z[:,I]\n",
    "z,lon = add_cyclic_point(z,coord=lon)\n",
    "\n",
    "ax.contourf(lon,lat,z,transform=ccrs.PlateCarree(),**contour_spec) \n",
    "ax.contour(lon,lat,z,transform=ccrs.PlateCarree(),\n",
    "           colors='k',\n",
    "           levels = contour_spec['levels'],\n",
    "           linewidths = 0.5)\n",
    "\n",
    "land = ax.add_feature(\n",
    "        cartopy.feature.NaturalEarthFeature('physical','land','110m',\n",
    "                                            edgecolor='face',\n",
    "                                            facecolor='black'))\n",
    "\n",
    "ax.plot(x, y, linewidth=2.,color='#ff7f0e', transform=ccrs.PlateCarree())\n",
    "\n",
    "ax.set_title('CESM-LE 10$^{th}$ percentile')\n",
    "\n",
    "#------------------------------------------------------------------------------\n",
    "#--- mean\n",
    "#------------------------------------------------------------------------------\n",
    "\n",
    "ax = fig.add_subplot(gs[1,4:6],projection=ccrs.Mollweide(central_longitude=-35.0))\n",
    "ax.set_extent([-90,20,-20,80])\n",
    "lon = trend_map.lon.values\n",
    "lat = trend_map.lat.values\n",
    "z = trend_map.LE.mean(dim='ens').values\n",
    "lon = np.where(lon<0.,lon+360.,lon)\n",
    "I = np.argsort(lon)\n",
    "lon = lon[I]\n",
    "z = z[:,I]\n",
    "z,lon = add_cyclic_point(z,coord=lon)\n",
    "\n",
    "cf = ax.contourf(lon,lat,z,transform=ccrs.PlateCarree(),**contour_spec)\n",
    "ax.contour(lon,lat,z,transform=ccrs.PlateCarree(),\n",
    "           colors='k',\n",
    "           levels = contour_spec['levels'],\n",
    "           linewidths = 0.5)\n",
    "\n",
    "land = ax.add_feature(\n",
    "        cartopy.feature.NaturalEarthFeature('physical','land','110m',\n",
    "                                            edgecolor='face',\n",
    "                                            facecolor='black'))\n",
    "\n",
    "ax.plot(x, y, linewidth=2.,color='#ff7f0e', transform=ccrs.PlateCarree())\n",
    "\n",
    "ax.set_title('CESM-LE mean')\n",
    "\n",
    "#------------------------------------------------------------------------------\n",
    "#--- colorbar and labels\n",
    "#------------------------------------------------------------------------------\n",
    "\n",
    "gs.update(wspace=0.5)\n",
    "\n",
    "cax = fig.add_axes([0.12, 0.05, 0.79, 0.02])\n",
    "cb = fig.colorbar(cf,cax=cax,\n",
    "                  ticks = contour_spec['levels'],\n",
    "                  orientation = 'horizontal')   \n",
    "cax.set_title('Linear trend in O$_2$ at 400 m (1970-2010) [mmol m$^{-3}$ yr$^{-1}$]',loc='center')\n",
    "\n",
    "t = []\n",
    "for i,x in enumerate(contour_spec['levels']):\n",
    "    if i%2 == 0:\n",
    "        if np.abs(x) < 1e-10:\n",
    "            t.append('0')\n",
    "        else:\n",
    "            t.append(plot_tools.contour_label_format(np.round(x,1)))\n",
    "    else:\n",
    "        t.append('')\n",
    "print t\n",
    "cb.ax.set_xticklabels(t)\n",
    "\n",
    "alp = [chr(i).upper() for i in range(97,97+26)]\n",
    "for i,axi in enumerate(fig.get_axes()):\n",
    "    if i == 5: break\n",
    "    p = axi.get_position()\n",
    "    y = p.y1-0.01\n",
    "    x = p.x0-0.03\n",
    "    fig.text(x,y,'%s'%alp[i],\n",
    "             fontsize=14.,\n",
    "             fontweight = 'semibold')\n",
    "\n",
    "plt.savefig(plot_name,dpi=300,bbox_inches='tight')    "
   ]
  },
  {
   "cell_type": "code",
   "execution_count": null,
   "metadata": {},
   "outputs": [],
   "source": []
  }
 ],
 "metadata": {
  "kernelspec": {
   "display_name": "Python 2",
   "language": "python",
   "name": "python2"
  },
  "language_info": {
   "codemirror_mode": {
    "name": "ipython",
    "version": 2
   },
   "file_extension": ".py",
   "mimetype": "text/x-python",
   "name": "python",
   "nbconvert_exporter": "python",
   "pygments_lexer": "ipython2",
   "version": "2.7.12"
  }
 },
 "nbformat": 4,
 "nbformat_minor": 2
}
