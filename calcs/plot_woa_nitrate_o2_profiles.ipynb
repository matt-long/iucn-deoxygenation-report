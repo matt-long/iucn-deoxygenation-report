{
 "cells": [
  {
   "cell_type": "code",
   "execution_count": 1,
   "metadata": {},
   "outputs": [],
   "source": [
    "%matplotlib inline\n",
    "from config_calc import *\n",
    "\n",
    "import matplotlib\n",
    "import matplotlib.pyplot as plt\n",
    "from cartopy.util import add_cyclic_point\n",
    "import matplotlib.gridspec as gridspec\n",
    "plt.rcParams['mathtext.default']='regular'\n",
    "\n",
    "import cmocean\n",
    "import plot_tools\n",
    "import solubility\n",
    "\n",
    "#dataroot = '/glade/p/ncgd0033/obs'\n",
    "#dataroot = '/project/oce/mclong'\n",
    "dataroot = '~/data'"
   ]
  },
  {
   "cell_type": "markdown",
   "metadata": {},
   "source": [
    "### read woa data"
   ]
  },
  {
   "cell_type": "code",
   "execution_count": 2,
   "metadata": {},
   "outputs": [
    {
     "data": {
      "text/plain": [
       "<xarray.Dataset>\n",
       "Dimensions:         (lat: 180, lon: 360, region: 5)\n",
       "Coordinates:\n",
       "  * lat             (lat) float64 -89.5 -88.5 -87.5 -86.5 -85.5 -84.5 -83.5 ...\n",
       "  * lon             (lon) float64 -179.5 -178.5 -177.5 -176.5 -175.5 -174.5 ...\n",
       "Dimensions without coordinates: region\n",
       "Data variables:\n",
       "    area            (lat, lon) float64 1.079e+08 1.079e+08 1.079e+08 ...\n",
       "    mask            (lat, lon) int64 0 0 0 0 0 0 0 0 0 0 0 0 0 0 0 0 0 0 0 0 ...\n",
       "    kmt             (lat, lon) int64 1 1 1 1 1 1 1 1 1 1 1 1 1 1 1 1 1 1 1 1 ...\n",
       "    REGION_MASK_3D  (region, lat, lon) float64 nan nan nan nan nan nan nan ...\n",
       "    region_names    (region) |S14 'Global' 'Pacific' 'Atlantic' 'Indian' ..."
      ]
     },
     "execution_count": 2,
     "metadata": {},
     "output_type": "execute_result"
    }
   ],
   "source": [
    "mask_file_in = os.path.join(dataroot,'woa2013v2/1x1d/woa_region_mask.nc')\n",
    "dsm = xr.open_dataset(mask_file_in)\n",
    "dsm"
   ]
  },
  {
   "cell_type": "code",
   "execution_count": 3,
   "metadata": {},
   "outputs": [
    {
     "data": {
      "text/plain": [
       "<xarray.Dataset>\n",
       "Dimensions:     (depth: 102, lat: 180, lon: 360, nbounds: 2)\n",
       "Coordinates:\n",
       "  * lat         (lat) float32 -89.5 -88.5 -87.5 -86.5 -85.5 -84.5 -83.5 ...\n",
       "  * lon         (lon) float32 -179.5 -178.5 -177.5 -176.5 -175.5 -174.5 ...\n",
       "  * depth       (depth) float32 0.0 5.0 10.0 15.0 20.0 25.0 30.0 35.0 40.0 ...\n",
       "Dimensions without coordinates: nbounds\n",
       "Data variables:\n",
       "    depth_bnds  (depth, nbounds) float32 0.0 2.5 2.5 7.5 7.5 12.5 12.5 17.5 ...\n",
       "    PO4         (depth, lat, lon) float64 nan nan nan nan nan nan nan nan ...\n",
       "    O2          (depth, lat, lon) float64 nan nan nan nan nan nan nan nan ...\n",
       "    NO3         (depth, lat, lon) float64 nan nan nan nan nan nan nan nan ...\n",
       "    dz          (depth) float32 2.5 5.0 5.0 5.0 5.0 5.0 5.0 5.0 5.0 5.0 5.0 ..."
      ]
     },
     "execution_count": 3,
     "metadata": {},
     "output_type": "execute_result"
    }
   ],
   "source": [
    "woapth = os.path.join(dataroot,'woa2013v2/1x1d')\n",
    "\n",
    "woa_info = {\n",
    "    'O2': {'varname': 'o_an', 'file' : os.path.join(woapth,'woa13_all_o00_01.nc')},   \n",
    "    'PO4': {'varname': 'p_an', 'file' : os.path.join(woapth,'woa13_all_p00_01.nc')},   \n",
    "    'NO3': {'varname': 'n_an', 'file' : os.path.join(woapth,'woa13_all_n00_01.nc')}}\n",
    "\n",
    "woa = {}\n",
    "for v,info in woa_info.items():   \n",
    "    varname = info['varname']\n",
    "    file_in = info['file']\n",
    "    woai = xr.open_dataset(file_in,decode_times=False)\n",
    "    woai = woai.drop([k for k in woai if k not in [varname,'lat','lon','depth','depth_bnds']])\n",
    "    woai = woai.rename({varname:v})\n",
    "    if woa:\n",
    "        woa = xr.merge((woa,woai))\n",
    "    else:\n",
    "        woa = woai\n",
    "         \n",
    "ni = len(woa.lon)\n",
    "nj = len(woa.lat)\n",
    "\n",
    "mlperl_2_mmolm3 = 1.e6 / 1.e3 / 22.3916\n",
    "for v in ['O2']:\n",
    "    woa[v] = woa[v] * mlperl_2_mmolm3\n",
    "    woa[v].attrs['units'] = 'mmol m$^{-3}$'\n",
    "\n",
    "woa['dz'] = woa.depth_bnds[:,1] - woa.depth_bnds[:,0]         \n",
    "woa = woa.isel(time=0)\n",
    "woa"
   ]
  },
  {
   "cell_type": "markdown",
   "metadata": {},
   "source": [
    "### mask out marginal seas"
   ]
  },
  {
   "cell_type": "code",
   "execution_count": 4,
   "metadata": {},
   "outputs": [
    {
     "data": {
      "text/plain": [
       "<matplotlib.collections.QuadMesh at 0x11d836e90>"
      ]
     },
     "execution_count": 4,
     "metadata": {},
     "output_type": "execute_result"
    },
    {
     "data": {
      "image/png": "[encoded data removed]",
      "text/plain": [
       "<matplotlib.figure.Figure at 0x106123ed0>"
      ]
     },
     "metadata": {},
     "output_type": "display_data"
    }
   ],
   "source": [
    "woa = woa.where(dsm.REGION_MASK_3D[0,:,:]==1)\n",
    "area = dsm.area.where(dsm.REGION_MASK_3D[0,:,:]==1).fillna(0.)\n",
    "area.plot()"
   ]
  },
  {
   "cell_type": "code",
   "execution_count": 5,
   "metadata": {},
   "outputs": [
    {
     "data": {
      "text/plain": [
       "<xarray.DataArray (depth: 102, lat: 180, lon: 360)>\n",
       "array([[[ 0.,  0., ...,  0.,  0.],\n",
       "        [ 0.,  0., ...,  0.,  0.],\n",
       "        ..., \n",
       "        [ 1.,  1., ...,  1.,  1.],\n",
       "        [ 1.,  1., ...,  1.,  1.]],\n",
       "\n",
       "       [[ 0.,  0., ...,  0.,  0.],\n",
       "        [ 0.,  0., ...,  0.,  0.],\n",
       "        ..., \n",
       "        [ 1.,  1., ...,  1.,  1.],\n",
       "        [ 1.,  1., ...,  1.,  1.]],\n",
       "\n",
       "       ..., \n",
       "       [[ 0.,  0., ...,  0.,  0.],\n",
       "        [ 0.,  0., ...,  0.,  0.],\n",
       "        ..., \n",
       "        [ 0.,  0., ...,  0.,  0.],\n",
       "        [ 0.,  0., ...,  0.,  0.]],\n",
       "\n",
       "       [[ 0.,  0., ...,  0.,  0.],\n",
       "        [ 0.,  0., ...,  0.,  0.],\n",
       "        ..., \n",
       "        [ 0.,  0., ...,  0.,  0.],\n",
       "        [ 0.,  0., ...,  0.,  0.]]])\n",
       "Dimensions without coordinates: depth, lat, lon"
      ]
     },
     "execution_count": 5,
     "metadata": {},
     "output_type": "execute_result"
    }
   ],
   "source": [
    "nz = woa.depth.shape[0]\n",
    "nlat = woa.lat.shape[0]\n",
    "nlon = woa.lon.shape[0]\n",
    "rmask = xr.DataArray(np.zeros((nz,nlat,nlon)),dims=('depth','lat','lon'))\n",
    "rmask[:,:,:] = np.where(np.isnan(woa.O2), 0., 1.)\n",
    "rmask"
   ]
  },
  {
   "cell_type": "code",
   "execution_count": 6,
   "metadata": {},
   "outputs": [
    {
     "data": {
      "text/plain": [
       "<xarray.DataArray (depth: 102, lat: 180, lon: 360)>\n",
       "array([[[  0.000000e+00,   0.000000e+00, ...,   0.000000e+00,   0.000000e+00],\n",
       "        [  0.000000e+00,   0.000000e+00, ...,   0.000000e+00,   0.000000e+00],\n",
       "        ..., \n",
       "        [  3.236782e+08,   3.236782e+08, ...,   3.236782e+08,   3.236782e+08],\n",
       "        [  1.079037e+08,   1.079037e+08, ...,   1.079037e+08,   1.079037e+08]],\n",
       "\n",
       "       [[  0.000000e+00,   0.000000e+00, ...,   0.000000e+00,   0.000000e+00],\n",
       "        [  0.000000e+00,   0.000000e+00, ...,   0.000000e+00,   0.000000e+00],\n",
       "        ..., \n",
       "        [  3.236782e+08,   3.236782e+08, ...,   3.236782e+08,   3.236782e+08],\n",
       "        [  1.079037e+08,   1.079037e+08, ...,   1.079037e+08,   1.079037e+08]],\n",
       "\n",
       "       ..., \n",
       "       [[  0.000000e+00,   0.000000e+00, ...,   0.000000e+00,   0.000000e+00],\n",
       "        [  0.000000e+00,   0.000000e+00, ...,   0.000000e+00,   0.000000e+00],\n",
       "        ..., \n",
       "        [  0.000000e+00,   0.000000e+00, ...,   0.000000e+00,   0.000000e+00],\n",
       "        [  0.000000e+00,   0.000000e+00, ...,   0.000000e+00,   0.000000e+00]],\n",
       "\n",
       "       [[  0.000000e+00,   0.000000e+00, ...,   0.000000e+00,   0.000000e+00],\n",
       "        [  0.000000e+00,   0.000000e+00, ...,   0.000000e+00,   0.000000e+00],\n",
       "        ..., \n",
       "        [  0.000000e+00,   0.000000e+00, ...,   0.000000e+00,   0.000000e+00],\n",
       "        [  0.000000e+00,   0.000000e+00, ...,   0.000000e+00,   0.000000e+00]]])\n",
       "Coordinates:\n",
       "  * lat      (lat) float64 -89.5 -88.5 -87.5 -86.5 -85.5 -84.5 -83.5 -82.5 ...\n",
       "  * lon      (lon) float64 -179.5 -178.5 -177.5 -176.5 -175.5 -174.5 -173.5 ...\n",
       "Dimensions without coordinates: depth"
      ]
     },
     "execution_count": 6,
     "metadata": {},
     "output_type": "execute_result"
    }
   ],
   "source": [
    "awgt =  rmask * area\n",
    "awgt"
   ]
  },
  {
   "cell_type": "code",
   "execution_count": 7,
   "metadata": {},
   "outputs": [
    {
     "data": {
      "text/plain": [
       "<xarray.Dataset>\n",
       "Dimensions:     (depth: 102, nbounds: 2)\n",
       "Coordinates:\n",
       "  * depth       (depth) float64 0.0 5.0 10.0 15.0 20.0 25.0 30.0 35.0 40.0 ...\n",
       "Dimensions without coordinates: nbounds\n",
       "Data variables:\n",
       "    depth_bnds  (depth, nbounds) float64 0.0 2.5 2.5 7.5 7.5 12.5 12.5 17.5 ...\n",
       "    PO4         (depth) float64 0.5337 0.5348 0.5349 0.542 0.5487 0.5571 ...\n",
       "    O2          (depth) float64 250.4 250.5 250.5 250.2 249.9 249.4 248.9 ...\n",
       "    NO3         (depth) float64 5.259 5.269 5.326 5.393 5.479 5.602 5.753 ...\n",
       "    dz          (depth) float64 2.5 5.0 5.0 5.0 5.0 5.0 5.0 5.0 5.0 5.0 5.0 ..."
      ]
     },
     "execution_count": 7,
     "metadata": {},
     "output_type": "execute_result"
    }
   ],
   "source": [
    "woaa = (woa*awgt).sum(dim=('lat','lon'))/awgt.sum(dim=('lat','lon'))\n",
    "woaa"
   ]
  },
  {
   "cell_type": "code",
   "execution_count": 8,
   "metadata": {},
   "outputs": [
    {
     "data": {
      "text/plain": [
       "[<matplotlib.lines.Line2D at 0x130b68550>]"
      ]
     },
     "execution_count": 8,
     "metadata": {},
     "output_type": "execute_result"
    },
    {
     "data": {
      "image/png": "[encoded data removed]",
      "text/plain": [
       "<matplotlib.figure.Figure at 0x130b95450>"
      ]
     },
     "metadata": {},
     "output_type": "display_data"
    }
   ],
   "source": [
    "woaa.NO3.plot()"
   ]
  },
  {
   "cell_type": "code",
   "execution_count": 12,
   "metadata": {},
   "outputs": [
    {
     "data": {
      "image/png": "[encoded data removed]",
      "text/plain": [
       "<matplotlib.figure.Figure at 0x14af48f10>"
      ]
     },
     "metadata": {},
     "output_type": "display_data"
    }
   ],
   "source": [
    "import colorbrewer\n",
    "\n",
    "plot_name = os.path.join(diro['talk_fig'],'woa-no3-o2sat-profile.pdf')\n",
    "                         \n",
    "fig = plt.figure(figsize=(5,6))\n",
    "ax = fig.add_subplot(1,1,1)\n",
    "\n",
    "clr_no3 = colorbrewer.singlehue('orange')[2]\n",
    "clr_o2 = colorbrewer.singlehue('blue')[2]\n",
    "\n",
    "pn = ax.plot(woaa.NO3,woaa.depth,'-',color=clr_no3,linewidth=2)\n",
    "\n",
    "x = 16./170*solubility.O2(35.,0)\n",
    "ax.axvline(x,color=clr_o2,linestyle='--',linewidth=2)\n",
    "\n",
    "ylm = ax.get_ylim()\n",
    "ax.set_xlabel('Nitrate [mmol m$^{-3}$]')\n",
    "ax.set_ylabel('Depth [m]')\n",
    "ax.set_ylim(5775,-200)\n",
    "\n",
    "ax.annotate('O$_2^{sat}$ (0$^\\circ$C) x r$_{N:O_2}$', \n",
    "            xy=(33.8,200),\n",
    "            xytext=(30,100),\n",
    "            arrowprops=dict(color=clr_o2,arrowstyle='->'),\n",
    "            horizontalalignment='right',\n",
    "            color = clr_o2,\n",
    "            fontsize = 14)\n",
    "\n",
    "ax.annotate('Global mean NO$_3^-$', \n",
    "            xy=(28,500),\n",
    "            xytext=(15,1500),\n",
    "            arrowprops=dict(color=clr_no3,arrowstyle='->'),\n",
    "            horizontalalignment='left',\n",
    "            color = clr_no3,\n",
    "            fontsize = 14)\n",
    "\n",
    "plt.savefig(plot_name,bbox_inches='tight')"
   ]
  },
  {
   "cell_type": "code",
   "execution_count": null,
   "metadata": {},
   "outputs": [],
   "source": []
  }
 ],
 "metadata": {
  "kernelspec": {
   "display_name": "Python 2",
   "language": "python",
   "name": "python2"
  },
  "language_info": {
   "codemirror_mode": {
    "name": "ipython",
    "version": 2
   },
   "file_extension": ".py",
   "mimetype": "text/x-python",
   "name": "python",
   "nbconvert_exporter": "python",
   "pygments_lexer": "ipython2",
   "version": "2.7.12"
  }
 },
 "nbformat": 4,
 "nbformat_minor": 2
}
