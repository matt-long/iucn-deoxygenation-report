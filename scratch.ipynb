{
 "cells": [
  {
   "cell_type": "code",
   "execution_count": 5,
   "metadata": {},
   "outputs": [],
   "source": [
    "%matplotlib inline\n",
    "from config_calc import *\n",
    "\n",
    "import matplotlib\n",
    "import matplotlib.pyplot as plt\n",
    "from cartopy.util import add_cyclic_point\n",
    "import matplotlib.gridspec as gridspec\n",
    "plt.rcParams['mathtext.default']='regular'"
   ]
  },
  {
   "cell_type": "code",
   "execution_count": 6,
   "metadata": {},
   "outputs": [
    {
     "data": {
      "text/plain": [
       "<xarray.Dataset>\n",
       "Dimensions:   (region: 3, time: 182, z_t: 40, z_t_150m: 15, z_w: 60)\n",
       "Coordinates:\n",
       "  * z_t       (z_t) float64 500.0 1.5e+03 2.5e+03 3.5e+03 4.5e+03 5.5e+03 ...\n",
       "  * z_t_150m  (z_t_150m) float32 500.0 1500.0 2500.0 3500.0 4500.0 5500.0 ...\n",
       "  * z_w       (z_w) float32 0.0 1000.0 2000.0 3000.0 4000.0 5000.0 6000.0 ...\n",
       "    TLAT      float64 7.969e+37\n",
       "    TLONG     float64 5.303e+39\n",
       "    ULAT      float64 8.549e+37\n",
       "    ULONG     float64 5.297e+39\n",
       "Dimensions without coordinates: region, time\n",
       "Data variables:\n",
       "    O2        (time, region) float64 151.6 79.75 195.3 0.0 0.0 0.0 151.5 ...\n",
       "    AOU       (time, region) float64 144.8 202.4 109.7 0.0 0.0 0.0 144.8 ...\n",
       "    KMT       float64 1.823e+20\n",
       "    TAREA     float64 2.323e+32\n",
       "    UAREA     float64 1.173e+51\n",
       "    dz        (z_t) float64 1e+03 1e+03 1e+03 1e+03 1e+03 1e+03 1e+03 1e+03 ...\n",
       "    year      (time) float64 1.92e+03 nan 1.921e+03 1.922e+03 1.923e+03 ...\n",
       "    O2sat     (time, region) float64 296.4 282.1 305.0 0.0 0.0 0.0 296.4 ...\n",
       "    vol_sum   (region) float64 3.476e+23 1.316e+23 2.16e+23\n",
       "    area_sum  (region) float64 3.611e+18 1.333e+18 2.278e+18"
      ]
     },
     "execution_count": 6,
     "metadata": {},
     "output_type": "execute_result"
    }
   ],
   "source": [
    "ds = xr.open_dataset('/glade/scratch/mclong/calcs/iucn-ch/toe_thermocline_trends.ens_i_000.nc')\n",
    "ds"
   ]
  },
  {
   "cell_type": "code",
   "execution_count": 12,
   "metadata": {},
   "outputs": [
    {
     "data": {
      "text/plain": [
       "[<matplotlib.lines.Line2D at 0x2b0f896f4310>]"
      ]
     },
     "execution_count": 12,
     "metadata": {},
     "output_type": "execute_result"
    },
    {
     "data": {
      "image/png": "[encoded data removed]",
      "text/plain": [
       "<matplotlib.figure.Figure at 0x2b0f896431d0>"
      ]
     },
     "metadata": {},
     "output_type": "display_data"
    }
   ],
   "source": [
    "fig = plt.figure()\n",
    "gs = gridspec.GridSpec(1,1)\n",
    "\n",
    "ax = fig.add_subplot(gs[0,0])\n",
    "ax.plot(ds.AOU[:,0],ds.O2sat[:,0],'.-')\n",
    "\n",
    "ax = fig.add_subplot(gs[0,0])\n",
    "ax.plot(ds.AOU[:,1],ds.O2sat[:,1])\n",
    "\n",
    "ax = fig.add_subplot(gs[0,0])\n",
    "ax.plot(ds.AOU[:,2],ds.O2sat[:,2])"
   ]
  },
  {
   "cell_type": "code",
   "execution_count": 13,
   "metadata": {},
   "outputs": [
    {
     "data": {
      "text/plain": [
       "array([ 144.77550441,    0.        ,  144.81639563,  144.86085152,\n",
       "        144.86200918,  144.92835361,  144.88927223,  144.88869149,\n",
       "        144.91176638,  144.94382316,  144.96955213,  145.03783159,\n",
       "        145.03168723,  145.00858788,  145.07873404,  145.11556164,\n",
       "        144.98929808,  144.99028596,  145.06461228,  145.10541494,\n",
       "        145.17168613,  145.21945744,  145.23106604,  145.17031304,\n",
       "        145.22874425,  145.26192266,  145.22666003,  145.26572505,\n",
       "        145.21564361,  145.14445272,  145.16322393,  145.18114857,\n",
       "        145.32680983,  145.31519786,  145.1720228 ,  145.1997079 ,\n",
       "        145.23851103,  145.2400997 ,  145.17016351,  145.29584984,\n",
       "        145.358175  ,  145.2203922 ,  145.24248501,  145.37217297,\n",
       "        145.45482462,  145.23991465,  145.21942252,  145.19049043,\n",
       "        145.25424581,  145.30888008,  145.43542726,  145.49086775,\n",
       "        145.51645456,  145.54484371,  145.66218593,  145.60705367,\n",
       "        145.42410958,  145.50219092,  145.57226912,  145.58375188,\n",
       "        145.54189892,  145.65425635,  145.70938365,  145.72129534,\n",
       "        145.75595485,  145.72237134,  145.77686675,  145.56781063,\n",
       "        145.46518677,  145.62023516,  145.74244035,  145.67468791,\n",
       "        145.62022437,  145.70709486,  145.56444651,  145.48159382,\n",
       "        145.52803142,  145.55518209,  145.52876315,  145.64079172,\n",
       "        145.65990133,  145.53511873,  145.58736975,  145.78070888,\n",
       "        145.85357992,  145.53595485,  145.62588288,  145.73796015,\n",
       "        145.81828896,  145.87422806,  145.94755736,  145.97511786,\n",
       "        145.92652271,  145.77449688,  145.87038826,  145.98343598,\n",
       "        146.06784811,  146.17536186,  146.12481634,  146.19539897,\n",
       "        146.26685945,  146.18829217,  146.26020751,  146.24918361,\n",
       "        146.36819656,  146.43518539,  146.45381709,  146.39011684,\n",
       "        146.44474518,  146.56823334,  146.49019568,  146.45077481,\n",
       "        146.592654  ,  146.67591629,  146.64370477,  146.50903335,\n",
       "        146.61645047,  146.58560223,  146.65683773,  146.74634246,\n",
       "        146.85126194,  146.81685906,  146.91416789,  147.01460464,\n",
       "        147.10362772,  147.09014243,  147.13293486,  147.20815868,\n",
       "        147.26313613,  147.3561034 ,  147.38704826,  147.44675833,\n",
       "        147.59317785,  147.63748591,  147.51521462,  147.57886534,\n",
       "        147.68773603,  147.82258151,  147.83013616,  147.87157474,\n",
       "        147.91105454,  147.91651059,  147.93667068,  148.05261124,\n",
       "        148.02288154,  147.99221653,  147.96030964,  148.01070233,\n",
       "        148.06958334,  148.13322093,  148.09044382,  148.0202236 ,\n",
       "        148.02993134,  148.16043989,  148.14529413,  148.08433487,\n",
       "        148.12104128,  148.21482365,  148.23739004,  148.15032667,\n",
       "        148.2592421 ,  148.3050421 ,  148.25745316,  148.27601744,\n",
       "        148.26548692,  148.17967714,  148.14534291,  148.20059518,\n",
       "        148.24347226,  148.24013699,  148.24657274,  148.3766085 ,\n",
       "        148.36951   ,  148.21628898,  148.18335746,  148.28306005,\n",
       "        148.26130149,  148.18111313,  148.1429199 ,  148.21842766,\n",
       "        148.27312738,  148.24117399])"
      ]
     },
     "execution_count": 13,
     "metadata": {},
     "output_type": "execute_result"
    }
   ],
   "source": [
    "ds.AOU[:,0].values"
   ]
  },
  {
   "cell_type": "code",
   "execution_count": null,
   "metadata": {},
   "outputs": [],
   "source": []
  }
 ],
 "metadata": {
  "kernelspec": {
   "display_name": "Python 2",
   "language": "python",
   "name": "python2"
  },
  "language_info": {
   "codemirror_mode": {
    "name": "ipython",
    "version": 2
   },
   "file_extension": ".py",
   "mimetype": "text/x-python",
   "name": "python",
   "nbconvert_exporter": "python",
   "pygments_lexer": "ipython2",
   "version": "2.7.13"
  }
 },
 "nbformat": 4,
 "nbformat_minor": 2
}
