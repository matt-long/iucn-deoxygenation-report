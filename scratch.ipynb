{
 "cells": [
  {
   "cell_type": "code",
   "execution_count": 14,
   "metadata": {},
   "outputs": [
    {
     "data": {
      "text/plain": [
       "<xarray.Dataset>\n",
       "Dimensions:               (d2: 2, lat_aux_grid: 395, moc_comp: 3, moc_z: 61, nlat: 384, nlon: 320, time: 181, transport_comp: 5, transport_reg: 2, z_t: 60, z_t_150m: 15, z_w: 60, z_w_bot: 60, z_w_top: 60)\n",
       "Coordinates:\n",
       "  * z_t                   (z_t) float64 500.0 1.5e+03 2.5e+03 3.5e+03 ...\n",
       "    TLAT                  (nlat, nlon) float64 -79.22 -79.22 -79.22 -79.22 ...\n",
       "    TLONG                 (nlat, nlon) float64 320.6 321.7 322.8 323.9 325.1 ...\n",
       "    ULAT                  (nlat, nlon) float64 -78.95 -78.95 -78.95 -78.95 ...\n",
       "    ULONG                 (nlat, nlon) float64 321.1 322.3 323.4 324.5 325.6 ...\n",
       "  * lat_aux_grid          (lat_aux_grid) float32 -79.4882 -78.9529 -78.4187 ...\n",
       "  * moc_z                 (moc_z) float32 0.0 1000.0 2000.0 3000.0 4000.0 ...\n",
       "  * z_t_150m              (z_t_150m) float32 500.0 1500.0 2500.0 3500.0 ...\n",
       "  * z_w                   (z_w) float32 0.0 1000.0 2000.0 3000.0 4000.0 ...\n",
       "  * z_w_bot               (z_w_bot) float32 1000.0 2000.0 3000.0 4000.0 ...\n",
       "  * z_w_top               (z_w_top) float32 0.0 1000.0 2000.0 3000.0 4000.0 ...\n",
       "  * time                  (time) float64 7.01e+05 7.014e+05 7.017e+05 ...\n",
       "Dimensions without coordinates: d2, moc_comp, nlat, nlon, transport_comp, transport_reg\n",
       "Data variables:\n",
       "    ANGLE                 (nlat, nlon) float64 0.0 0.0 0.0 0.0 0.0 0.0 0.0 ...\n",
       "    ANGLET                (nlat, nlon) float64 0.0 0.0 0.0 0.0 0.0 0.0 0.0 ...\n",
       "    DXT                   (nlat, nlon) float64 1.894e+06 1.893e+06 1.893e+06 ...\n",
       "    DXU                   (nlat, nlon) float64 2.397e+06 2.397e+06 2.397e+06 ...\n",
       "    DYT                   (nlat, nlon) float64 5.94e+06 5.94e+06 5.94e+06 ...\n",
       "    DYU                   (nlat, nlon) float64 5.94e+06 5.94e+06 5.94e+06 ...\n",
       "    HT                    (nlat, nlon) float64 0.0 0.0 0.0 0.0 0.0 0.0 0.0 ...\n",
       "    HTE                   (nlat, nlon) float64 5.94e+06 5.94e+06 5.94e+06 ...\n",
       "    HTN                   (nlat, nlon) float64 2.397e+06 2.397e+06 2.397e+06 ...\n",
       "    HU                    (nlat, nlon) float64 0.0 0.0 0.0 0.0 0.0 0.0 0.0 ...\n",
       "    HUS                   (nlat, nlon) float64 2.397e+06 2.397e+06 2.397e+06 ...\n",
       "    HUW                   (nlat, nlon) float64 5.94e+06 5.94e+06 5.94e+06 ...\n",
       "    KMT                   (nlat, nlon) float64 0.0 0.0 0.0 0.0 0.0 0.0 0.0 ...\n",
       "    KMU                   (nlat, nlon) float64 0.0 0.0 0.0 0.0 0.0 0.0 0.0 ...\n",
       "    REGION_MASK           (nlat, nlon) float64 0.0 0.0 0.0 0.0 0.0 0.0 0.0 ...\n",
       "    T0_Kelvin             float64 273.1\n",
       "    TAREA                 (nlat, nlon) float64 1.125e+13 1.125e+13 1.124e+13 ...\n",
       "    UAREA                 (nlat, nlon) float64 1.423e+13 1.423e+13 1.423e+13 ...\n",
       "    cp_air                float64 1.005e+03\n",
       "    cp_sw                 float64 3.996e+07\n",
       "    days_in_norm_year     float64 365.0\n",
       "    dz                    (z_t) float64 1e+03 1e+03 1e+03 1e+03 1e+03 1e+03 ...\n",
       "    dzw                   (z_w) float64 500.0 1e+03 1e+03 1e+03 1e+03 1e+03 ...\n",
       "    fwflux_factor         float64 0.0001\n",
       "    grav                  float64 980.6\n",
       "    heat_to_PW            float64 4.186e-15\n",
       "    hflux_factor          float64 2.439e-05\n",
       "    latent_heat_fusion    float64 3.337e+09\n",
       "    latent_heat_vapor     float64 2.501e+06\n",
       "    mass_to_Sv            float64 1e-12\n",
       "    moc_components        (moc_comp) |S256 'Eulerian Mean' ...\n",
       "    momentum_factor       float64 10.0\n",
       "    nsurface_t            float64 8.621e+04\n",
       "    nsurface_u            float64 8.305e+04\n",
       "    ocn_ref_salinity      float64 34.7\n",
       "    omega                 float64 7.292e-05\n",
       "    ppt_to_salt           float64 0.001\n",
       "    radius                float64 6.371e+08\n",
       "    rho_air               float64 1.292\n",
       "    rho_fw                float64 1.0\n",
       "    rho_sw                float64 1.026\n",
       "    salinity_factor       float64 -0.00347\n",
       "    salt_to_Svppt         float64 1e-09\n",
       "    salt_to_mmday         float64 3.154e+05\n",
       "    salt_to_ppt           float64 1e+03\n",
       "    sea_ice_salinity      float64 4.0\n",
       "    sflux_factor          float64 0.1\n",
       "    sound                 float64 1.5e+05\n",
       "    stefan_boltzmann      float64 5.67e-08\n",
       "    transport_components  (transport_comp) |S256 'Total' ...\n",
       "    transport_regions     (transport_reg) |S256 'Global Ocean - Marginal Seas' ...\n",
       "    vonkar                float64 0.4\n",
       "    O2                    (time, z_t, nlat, nlon) float32 nan nan nan nan ...\n",
       "    time_bound            (time, d2) float64 7.01e+05 7.01e+05 7.013e+05 ...\n",
       "    year                  (time) int64 1920 1921 1922 1923 1924 1925 1926 ..."
      ]
     },
     "execution_count": 14,
     "metadata": {},
     "output_type": "execute_result"
    }
   ],
   "source": [
    "%matplotlib inline\n",
    "import xarray as xr\n",
    "from config_calc import *\n",
    "\n",
    "ds = xr.open_dataset('/glade/scratch/mclong/calcs/iucn-ch/work/tr85.001.ann_dft.O2.1920-2100.nc',decode_times=False)\n",
    "ds"
   ]
  },
  {
   "cell_type": "code",
   "execution_count": 12,
   "metadata": {},
   "outputs": [
    {
     "data": {
      "text/plain": [
       "<xarray.Dataset>\n",
       "Dimensions:               (lat_aux_grid: 395, moc_comp: 3, moc_z: 61, nlat: 384, nlon: 320, transport_comp: 5, transport_reg: 2, z_t: 60, z_t_150m: 15, z_w: 60, z_w_bot: 60, z_w_top: 60)\n",
       "Coordinates:\n",
       "  * z_t                   (z_t) float64 500.0 1.5e+03 2.5e+03 3.5e+03 ...\n",
       "    TLAT                  (nlat, nlon) float64 -79.22 -79.22 -79.22 -79.22 ...\n",
       "    TLONG                 (nlat, nlon) float64 320.6 321.7 322.8 323.9 325.1 ...\n",
       "    ULAT                  (nlat, nlon) float64 -78.95 -78.95 -78.95 -78.95 ...\n",
       "    ULONG                 (nlat, nlon) float64 321.1 322.3 323.4 324.5 325.6 ...\n",
       "  * lat_aux_grid          (lat_aux_grid) float32 -79.4882 -78.9529 -78.4187 ...\n",
       "  * moc_z                 (moc_z) float32 0.0 1000.0 2000.0 3000.0 4000.0 ...\n",
       "  * z_t_150m              (z_t_150m) float32 500.0 1500.0 2500.0 3500.0 ...\n",
       "  * z_w                   (z_w) float32 0.0 1000.0 2000.0 3000.0 4000.0 ...\n",
       "  * z_w_bot               (z_w_bot) float32 1000.0 2000.0 3000.0 4000.0 ...\n",
       "  * z_w_top               (z_w_top) float32 0.0 1000.0 2000.0 3000.0 4000.0 ...\n",
       "Dimensions without coordinates: moc_comp, nlat, nlon, transport_comp, transport_reg\n",
       "Data variables:\n",
       "    ANGLE                 (nlat, nlon) float64 0.0 0.0 0.0 0.0 0.0 0.0 0.0 ...\n",
       "    ANGLET                (nlat, nlon) float64 0.0 0.0 0.0 0.0 0.0 0.0 0.0 ...\n",
       "    DXT                   (nlat, nlon) float64 1.894e+06 1.893e+06 1.893e+06 ...\n",
       "    DXU                   (nlat, nlon) float64 2.397e+06 2.397e+06 2.397e+06 ...\n",
       "    DYT                   (nlat, nlon) float64 5.94e+06 5.94e+06 5.94e+06 ...\n",
       "    DYU                   (nlat, nlon) float64 5.94e+06 5.94e+06 5.94e+06 ...\n",
       "    HT                    (nlat, nlon) float64 0.0 0.0 0.0 0.0 0.0 0.0 0.0 ...\n",
       "    HTE                   (nlat, nlon) float64 5.94e+06 5.94e+06 5.94e+06 ...\n",
       "    HTN                   (nlat, nlon) float64 2.397e+06 2.397e+06 2.397e+06 ...\n",
       "    HU                    (nlat, nlon) float64 0.0 0.0 0.0 0.0 0.0 0.0 0.0 ...\n",
       "    HUS                   (nlat, nlon) float64 2.397e+06 2.397e+06 2.397e+06 ...\n",
       "    HUW                   (nlat, nlon) float64 5.94e+06 5.94e+06 5.94e+06 ...\n",
       "    KMT                   (nlat, nlon) float64 0.0 0.0 0.0 0.0 0.0 0.0 0.0 ...\n",
       "    KMU                   (nlat, nlon) float64 0.0 0.0 0.0 0.0 0.0 0.0 0.0 ...\n",
       "    REGION_MASK           (nlat, nlon) float64 0.0 0.0 0.0 0.0 0.0 0.0 0.0 ...\n",
       "    T0_Kelvin             float64 273.1\n",
       "    TAREA                 (nlat, nlon) float64 1.125e+13 1.125e+13 1.124e+13 ...\n",
       "    UAREA                 (nlat, nlon) float64 1.423e+13 1.423e+13 1.423e+13 ...\n",
       "    cp_air                float64 1.005e+03\n",
       "    cp_sw                 float64 3.996e+07\n",
       "    days_in_norm_year     float64 365.0\n",
       "    dz                    (z_t) float64 1e+03 1e+03 1e+03 1e+03 1e+03 1e+03 ...\n",
       "    dzw                   (z_w) float64 500.0 1e+03 1e+03 1e+03 1e+03 1e+03 ...\n",
       "    fwflux_factor         float64 0.0001\n",
       "    grav                  float64 980.6\n",
       "    heat_to_PW            float64 4.186e-15\n",
       "    hflux_factor          float64 2.439e-05\n",
       "    latent_heat_fusion    float64 3.337e+09\n",
       "    latent_heat_vapor     float64 2.501e+06\n",
       "    mass_to_Sv            float64 1e-12\n",
       "    moc_components        (moc_comp) |S256 'Eulerian Mean' ...\n",
       "    momentum_factor       float64 10.0\n",
       "    nsurface_t            float64 8.621e+04\n",
       "    nsurface_u            float64 8.305e+04\n",
       "    ocn_ref_salinity      float64 34.7\n",
       "    omega                 float64 7.292e-05\n",
       "    ppt_to_salt           float64 0.001\n",
       "    radius                float64 6.371e+08\n",
       "    rho_air               float64 1.292\n",
       "    rho_fw                float64 1.0\n",
       "    rho_sw                float64 1.026\n",
       "    salinity_factor       float64 -0.00347\n",
       "    salt_to_Svppt         float64 1e-09\n",
       "    salt_to_mmday         float64 3.154e+05\n",
       "    salt_to_ppt           float64 1e+03\n",
       "    sea_ice_salinity      float64 4.0\n",
       "    sflux_factor          float64 0.1\n",
       "    sound                 float64 1.5e+05\n",
       "    stefan_boltzmann      float64 5.67e-08\n",
       "    transport_components  (transport_comp) |S256 'Total' ...\n",
       "    transport_regions     (transport_reg) |S256 'Global Ocean - Marginal Seas' ...\n",
       "    vonkar                float64 0.4\n",
       "    VOL                   (z_t, nlat, nlon) float64 0.0 0.0 0.0 0.0 0.0 0.0 ...\n",
       "    VOL_klevel_wgt        (z_t, nlat, nlon) float64 0.0 0.0 0.0 0.0 0.0 0.0 ..."
      ]
     },
     "execution_count": 12,
     "metadata": {},
     "output_type": "execute_result"
    }
   ],
   "source": [
    "dso = ds.copy().drop([k for k in ds\n",
    "                      if 'time' in ds[k].dims])\n",
    "\n",
    "dso['VOL'] = ds.dz * ds.TAREA\n",
    "for j in range(len(ds.nlat)):\n",
    "    for i in range(len(ds.nlon)):\n",
    "        k = ds.KMT.values[j,i].astype(int)\n",
    "        dso.VOL.values[k:,j,i] = 0.\n",
    "\n",
    "dso['VOL_klevel_wgt'] = dso.VOL.copy()\n",
    "for k in range(len(ds.z_t)):\n",
    "    dso.VOL_klevel_wgt[k,:,:] = dso.VOL[k,:,:] / dso.VOL[k,:,:].sum(dim=('nlat','nlon'))\n",
    "dso    "
   ]
  },
  {
   "cell_type": "code",
   "execution_count": 15,
   "metadata": {},
   "outputs": [
    {
     "data": {
      "text/plain": [
       "<xarray.Dataset>\n",
       "Dimensions:               (d2: 2, lat_aux_grid: 395, moc_comp: 3, moc_z: 61, nlat: 384, nlon: 320, time: 181, transport_comp: 5, transport_reg: 2, z_t: 60, z_t_150m: 15, z_w: 60, z_w_bot: 60, z_w_top: 60)\n",
       "Coordinates:\n",
       "  * z_t                   (z_t) float64 500.0 1.5e+03 2.5e+03 3.5e+03 ...\n",
       "    TLAT                  (nlat, nlon) float64 -79.22 -79.22 -79.22 -79.22 ...\n",
       "    TLONG                 (nlat, nlon) float64 320.6 321.7 322.8 323.9 325.1 ...\n",
       "    ULAT                  (nlat, nlon) float64 -78.95 -78.95 -78.95 -78.95 ...\n",
       "    ULONG                 (nlat, nlon) float64 321.1 322.3 323.4 324.5 325.6 ...\n",
       "  * lat_aux_grid          (lat_aux_grid) float32 -79.4882 -78.9529 -78.4187 ...\n",
       "  * moc_z                 (moc_z) float32 0.0 1000.0 2000.0 3000.0 4000.0 ...\n",
       "  * z_t_150m              (z_t_150m) float32 500.0 1500.0 2500.0 3500.0 ...\n",
       "  * z_w                   (z_w) float32 0.0 1000.0 2000.0 3000.0 4000.0 ...\n",
       "  * z_w_bot               (z_w_bot) float32 1000.0 2000.0 3000.0 4000.0 ...\n",
       "  * z_w_top               (z_w_top) float32 0.0 1000.0 2000.0 3000.0 4000.0 ...\n",
       "  * time                  (time) float64 7.01e+05 7.014e+05 7.017e+05 ...\n",
       "Dimensions without coordinates: d2, moc_comp, nlat, nlon, transport_comp, transport_reg\n",
       "Data variables:\n",
       "    ANGLE                 (nlat, nlon) float64 0.0 0.0 0.0 0.0 0.0 0.0 0.0 ...\n",
       "    ANGLET                (nlat, nlon) float64 0.0 0.0 0.0 0.0 0.0 0.0 0.0 ...\n",
       "    DXT                   (nlat, nlon) float64 1.894e+06 1.893e+06 1.893e+06 ...\n",
       "    DXU                   (nlat, nlon) float64 2.397e+06 2.397e+06 2.397e+06 ...\n",
       "    DYT                   (nlat, nlon) float64 5.94e+06 5.94e+06 5.94e+06 ...\n",
       "    DYU                   (nlat, nlon) float64 5.94e+06 5.94e+06 5.94e+06 ...\n",
       "    HT                    (nlat, nlon) float64 0.0 0.0 0.0 0.0 0.0 0.0 0.0 ...\n",
       "    HTE                   (nlat, nlon) float64 5.94e+06 5.94e+06 5.94e+06 ...\n",
       "    HTN                   (nlat, nlon) float64 2.397e+06 2.397e+06 2.397e+06 ...\n",
       "    HU                    (nlat, nlon) float64 0.0 0.0 0.0 0.0 0.0 0.0 0.0 ...\n",
       "    HUS                   (nlat, nlon) float64 2.397e+06 2.397e+06 2.397e+06 ...\n",
       "    HUW                   (nlat, nlon) float64 5.94e+06 5.94e+06 5.94e+06 ...\n",
       "    KMT                   (nlat, nlon) float64 0.0 0.0 0.0 0.0 0.0 0.0 0.0 ...\n",
       "    KMU                   (nlat, nlon) float64 0.0 0.0 0.0 0.0 0.0 0.0 0.0 ...\n",
       "    REGION_MASK           (nlat, nlon) float64 0.0 0.0 0.0 0.0 0.0 0.0 0.0 ...\n",
       "    T0_Kelvin             float64 273.1\n",
       "    TAREA                 (nlat, nlon) float64 1.125e+13 1.125e+13 1.124e+13 ...\n",
       "    UAREA                 (nlat, nlon) float64 1.423e+13 1.423e+13 1.423e+13 ...\n",
       "    cp_air                float64 1.005e+03\n",
       "    cp_sw                 float64 3.996e+07\n",
       "    days_in_norm_year     float64 365.0\n",
       "    dz                    (z_t) float64 1e+03 1e+03 1e+03 1e+03 1e+03 1e+03 ...\n",
       "    dzw                   (z_w) float64 500.0 1e+03 1e+03 1e+03 1e+03 1e+03 ...\n",
       "    fwflux_factor         float64 0.0001\n",
       "    grav                  float64 980.6\n",
       "    heat_to_PW            float64 4.186e-15\n",
       "    hflux_factor          float64 2.439e-05\n",
       "    latent_heat_fusion    float64 3.337e+09\n",
       "    latent_heat_vapor     float64 2.501e+06\n",
       "    mass_to_Sv            float64 1e-12\n",
       "    moc_components        (moc_comp) |S256 'Eulerian Mean' ...\n",
       "    momentum_factor       float64 10.0\n",
       "    nsurface_t            float64 8.621e+04\n",
       "    nsurface_u            float64 8.305e+04\n",
       "    ocn_ref_salinity      float64 34.7\n",
       "    omega                 float64 7.292e-05\n",
       "    ppt_to_salt           float64 0.001\n",
       "    radius                float64 6.371e+08\n",
       "    rho_air               float64 1.292\n",
       "    rho_fw                float64 1.0\n",
       "    rho_sw                float64 1.026\n",
       "    salinity_factor       float64 -0.00347\n",
       "    salt_to_Svppt         float64 1e-09\n",
       "    salt_to_mmday         float64 3.154e+05\n",
       "    salt_to_ppt           float64 1e+03\n",
       "    sea_ice_salinity      float64 4.0\n",
       "    sflux_factor          float64 0.1\n",
       "    sound                 float64 1.5e+05\n",
       "    stefan_boltzmann      float64 5.67e-08\n",
       "    transport_components  (transport_comp) |S256 'Total' ...\n",
       "    transport_regions     (transport_reg) |S256 'Global Ocean - Marginal Seas' ...\n",
       "    vonkar                float64 0.4\n",
       "    O2                    (time, z_t) float64 250.0 250.0 250.1 249.7 248.8 ...\n",
       "    time_bound            (time, d2) float64 7.01e+05 7.01e+05 7.013e+05 ...\n",
       "    year                  (time) int64 1920 1921 1922 1923 1924 1925 1926 ..."
      ]
     },
     "execution_count": 15,
     "metadata": {},
     "output_type": "execute_result"
    }
   ],
   "source": [
    "dsv = dso\n",
    "vol_wgt = dsv.VOL / dsv.VOL.sum(dim=('nlat','nlon'))\n",
    "for variable in ds:\n",
    "    if not all([d in ds[variable].dims for d in ['time','nlat','nlon']]):\n",
    "        continue\n",
    "\n",
    "    if ds[variable].dims == ('time','z_t','nlat','nlon'):\n",
    "        \n",
    "         ds[variable] = (ds[variable] * vol_wgt).sum(dim=['nlat','nlon'])\n",
    "\n",
    "    elif ds[variable].dims == ('time','nlat','nlon'):\n",
    "        ds[variable] = (ds[variable] * ds.TAREA).sum(dim=['nlat','nlon'])\n",
    "\n",
    "\n",
    "ds"
   ]
  },
  {
   "cell_type": "code",
   "execution_count": 4,
   "metadata": {},
   "outputs": [
    {
     "data": {
      "text/plain": [
       "<matplotlib.collections.QuadMesh at 0x2b048f47ded0>"
      ]
     },
     "execution_count": 4,
     "metadata": {},
     "output_type": "execute_result"
    },
    {
     "data": {
      "image/png": "[encoded data removed]",
      "text/plain": [
       "<matplotlib.figure.Figure at 0x2b0485c42690>"
      ]
     },
     "metadata": {},
     "output_type": "display_data"
    }
   ],
   "source": [
    "ds.O2.plot()"
   ]
  },
  {
   "cell_type": "code",
   "execution_count": 10,
   "metadata": {},
   "outputs": [
    {
     "data": {
      "text/plain": [
       "<xarray.DataArray 'VOL' (z_t: 60, nlat: 384, nlon: 320)>\n",
       "array([[[ 0.,  0., ...,  0.,  0.],\n",
       "        [ 0.,  0., ...,  0.,  0.],\n",
       "        ..., \n",
       "        [ 0.,  0., ...,  0.,  0.],\n",
       "        [ 0.,  0., ...,  0.,  0.]],\n",
       "\n",
       "       [[ 0.,  0., ...,  0.,  0.],\n",
       "        [ 0.,  0., ...,  0.,  0.],\n",
       "        ..., \n",
       "        [ 0.,  0., ...,  0.,  0.],\n",
       "        [ 0.,  0., ...,  0.,  0.]],\n",
       "\n",
       "       ..., \n",
       "       [[ 0.,  0., ...,  0.,  0.],\n",
       "        [ 0.,  0., ...,  0.,  0.],\n",
       "        ..., \n",
       "        [ 0.,  0., ...,  0.,  0.],\n",
       "        [ 0.,  0., ...,  0.,  0.]],\n",
       "\n",
       "       [[ 0.,  0., ...,  0.,  0.],\n",
       "        [ 0.,  0., ...,  0.,  0.],\n",
       "        ..., \n",
       "        [ 0.,  0., ...,  0.,  0.],\n",
       "        [ 0.,  0., ...,  0.,  0.]]])\n",
       "Coordinates:\n",
       "  * z_t      (z_t) float64 500.0 1.5e+03 2.5e+03 3.5e+03 4.5e+03 5.5e+03 ...\n",
       "    TLAT     (nlat, nlon) float64 -79.22 -79.22 -79.22 -79.22 -79.22 -79.22 ...\n",
       "    TLONG    (nlat, nlon) float64 320.6 321.7 322.8 323.9 325.1 326.2 327.3 ...\n",
       "    ULAT     (nlat, nlon) float64 -78.95 -78.95 -78.95 -78.95 -78.95 -78.95 ...\n",
       "    ULONG    (nlat, nlon) float64 321.1 322.3 323.4 324.5 325.6 326.8 327.9 ...\n",
       "Dimensions without coordinates: nlat, nlon"
      ]
     },
     "execution_count": 10,
     "metadata": {},
     "output_type": "execute_result"
    }
   ],
   "source": [
    "vol_wgt = dsv.VOL / dsv.VOL.sum(dim=('nlat','nlon'))\n",
    "vol_wgt"
   ]
  },
  {
   "cell_type": "code",
   "execution_count": 16,
   "metadata": {},
   "outputs": [
    {
     "data": {
      "text/plain": [
       "OrderedDict()"
      ]
     },
     "execution_count": 16,
     "metadata": {},
     "output_type": "execute_result"
    }
   ],
   "source": [
    "ds.O2.attrs"
   ]
  },
  {
   "cell_type": "code",
   "execution_count": 22,
   "metadata": {},
   "outputs": [],
   "source": [
    "avg_over_dims = ['nlat','nlon']\n",
    "ds['area_sum'] = ds.TAREA.where(ds.KMT > 0).sum(avg_over_dims)\n",
    "ds\n",
    "x = 22."
   ]
  },
  {
   "cell_type": "code",
   "execution_count": 23,
   "metadata": {},
   "outputs": [],
   "source": [
    "if not x: \n",
    "    print 'as'"
   ]
  },
  {
   "cell_type": "code",
   "execution_count": 24,
   "metadata": {},
   "outputs": [
    {
     "name": "stdout",
     "output_type": "stream",
     "text": [
      "asd\n"
     ]
    }
   ],
   "source": [
    "x = 0\n",
    "if not x:\n",
    "    print 'asd'"
   ]
  },
  {
   "cell_type": "code",
   "execution_count": null,
   "metadata": {},
   "outputs": [],
   "source": []
  }
 ],
 "metadata": {
  "kernelspec": {
   "display_name": "Python 2",
   "language": "python",
   "name": "python2"
  },
  "language_info": {
   "codemirror_mode": {
    "name": "ipython",
    "version": 2
   },
   "file_extension": ".py",
   "mimetype": "text/x-python",
   "name": "python",
   "nbconvert_exporter": "python",
   "pygments_lexer": "ipython2",
   "version": "2.7.13"
  }
 },
 "nbformat": 4,
 "nbformat_minor": 2
}
