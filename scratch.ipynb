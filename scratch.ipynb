{
 "cells": [
  {
   "cell_type": "code",
   "execution_count": 1,
   "metadata": {},
   "outputs": [],
   "source": [
    "%matplotlib inline\n",
    "from config_calc import *\n",
    "\n",
    "import matplotlib\n",
    "import matplotlib.pyplot as plt\n",
    "from cartopy.util import add_cyclic_point\n",
    "import matplotlib.gridspec as gridspec\n",
    "plt.rcParams['mathtext.default']='regular'\n",
    "\n",
    "import proc_cesm_le"
   ]
  },
  {
   "cell_type": "code",
   "execution_count": 3,
   "metadata": {},
   "outputs": [
    {
     "data": {
      "text/plain": [
       "<xarray.Dataset>\n",
       "Dimensions:  (nlat: 384, nlon: 320, time: 101, trend_length: 71)\n",
       "Dimensions without coordinates: nlat, nlon, time, trend_length\n",
       "Data variables:\n",
       "    O2_cnt   (time, trend_length, nlat, nlon) float32 0.0 0.0 0.0 0.0 0.0 ...\n",
       "    O2_std   (time, trend_length, nlat, nlon) float32 nan nan nan nan nan ...\n",
       "    O2       (time, trend_length, nlat, nlon) float32 nan nan nan nan nan ..."
      ]
     },
     "execution_count": 3,
     "metadata": {},
     "output_type": "execute_result"
    }
   ],
   "source": [
    "v = 'O2'\n",
    "file_std = os.path.join(diro['out'],'toe_thermocline.%s.std.nc'%v)\n",
    "ds_std = xr.open_dataset(file_std)\n",
    "ds_std"
   ]
  },
  {
   "cell_type": "code",
   "execution_count": 4,
   "metadata": {},
   "outputs": [
    {
     "data": {
      "text/plain": [
       "<xarray.Dataset>\n",
       "Dimensions:       (nlat: 384, nlon: 320, time: 101, trend_length: 71)\n",
       "Coordinates:\n",
       "  * trend_length  (trend_length) int64 10 11 12 13 14 15 16 17 18 19 20 21 ...\n",
       "  * time          (time) int64 2000 2001 2002 2003 2004 2005 2006 2007 2008 ...\n",
       "Dimensions without coordinates: nlat, nlon\n",
       "Data variables:\n",
       "    O2            (time, trend_length, nlat, nlon) float64 nan nan nan nan ...\n",
       "    AOU           (time, trend_length, nlat, nlon) float64 nan nan nan nan ...\n",
       "    O2sat         (time, trend_length, nlat, nlon) float64 nan nan nan nan ..."
      ]
     },
     "execution_count": 4,
     "metadata": {},
     "output_type": "execute_result"
    }
   ],
   "source": [
    "index_ens = 0\n",
    "files = os.path.join(diro['out'],'toe_thermocline_trends.ens_i_%03d.nc'%index_ens)\n",
    "ds = xr.open_dataset(files) #,concat_dim='ens',chunks=chunks)\n",
    "trend_year = ds.time.values\n",
    "trend_length = ds.trend_length.values\n",
    "n_trend = len(trend_length)\n",
    "n_year = len(trend_year)\n",
    "ds"
   ]
  },
  {
   "cell_type": "code",
   "execution_count": 5,
   "metadata": {},
   "outputs": [
    {
     "data": {
      "text/plain": [
       "<xarray.DataArray (time: 101, trend_length: 71, nlat: 384, nlon: 320)>\n",
       "array([[[[ nan, ...,  nan],\n",
       "         ..., \n",
       "         [ nan, ...,  nan]],\n",
       "\n",
       "        ..., \n",
       "        [[ nan, ...,  nan],\n",
       "         ..., \n",
       "         [ nan, ...,  nan]]],\n",
       "\n",
       "\n",
       "       ..., \n",
       "       [[[ nan, ...,  nan],\n",
       "         ..., \n",
       "         [ nan, ...,  nan]],\n",
       "\n",
       "        ..., \n",
       "        [[ nan, ...,  nan],\n",
       "         ..., \n",
       "         [ nan, ...,  nan]]]])\n",
       "Coordinates:\n",
       "  * trend_length  (trend_length) int64 10 11 12 13 14 15 16 17 18 19 20 21 ...\n",
       "  * time          (time) int64 2000 2001 2002 2003 2004 2005 2006 2007 2008 ...\n",
       "Dimensions without coordinates: nlat, nlon"
      ]
     },
     "execution_count": 5,
     "metadata": {},
     "output_type": "execute_result"
    }
   ],
   "source": [
    "ds_norm = ds[v] / ds_std[v+'_std']\n",
    "ds_norm = ds_norm.compute()\n",
    "ds_norm"
   ]
  },
  {
   "cell_type": "code",
   "execution_count": 16,
   "metadata": {},
   "outputs": [
    {
     "data": {
      "text/plain": [
       "<matplotlib.collections.QuadMesh at 0x2b0fc069f410>"
      ]
     },
     "execution_count": 16,
     "metadata": {},
     "output_type": "execute_result"
    },
    {
     "data": {
      "image/png": "[encoded data removed]",
      "text/plain": [
       "<matplotlib.figure.Figure at 0x2b0fc0611e10>"
      ]
     },
     "metadata": {},
     "output_type": "display_data"
    }
   ],
   "source": [
    "ds_norm[:,:,236,0].plot()"
   ]
  },
  {
   "cell_type": "code",
   "execution_count": 35,
   "metadata": {},
   "outputs": [],
   "source": [
    "nlat = ds[v].shape[2]\n",
    "nlon = ds[v].shape[3]\n",
    "\n",
    "toe = xr.DataArray(np.ones((nlat,nlon)),dims=('nlat','nlon'))\n",
    "record_length = xr.DataArray(np.ones((nlat,nlon)),dims=('nlat','nlon'))\n",
    "\n",
    "ncomp = nlat*nlon\n",
    "n = 0\n",
    "for i in range(nlon):\n",
    "    for j in range(nlat):\n",
    "\n",
    "        if ds_norm[:,:,j,i].isnull().all():\n",
    "            continue\n",
    "\n",
    "        detected = (ds_norm[:,:,j,i] <= -2.)       \n",
    "\n",
    "        toe_x = np.ones(n_trend)\n",
    "        toe_x[:] = np.nan\n",
    "        for it in range(n_trend):\n",
    "            detected_it = detected[:,it]\n",
    "            detected_it = np.where(np.isnan(detected_it),False,detected_it)\n",
    "            for l in range(n_year):\n",
    "\n",
    "                if detected_it[l:].all():\n",
    "                    toe_x[it] = trend_year[l]\n",
    "                    break\n",
    "\n",
    "        if not np.isnan(toe_x).all():                           \n",
    "            toe.values[j,i] = np.nanmin(toe_x)\n",
    "            record_length.values[j,i] = trend_length[np.nanargmin(toe_x)]\n"
   ]
  },
  {
   "cell_type": "code",
   "execution_count": 32,
   "metadata": {},
   "outputs": [
    {
     "data": {
      "text/plain": [
       "<matplotlib.collections.QuadMesh at 0x2b0fc16fa210>"
      ]
     },
     "execution_count": 32,
     "metadata": {},
     "output_type": "execute_result"
    },
    {
     "data": {
      "image/png": "[encoded data removed]",
      "text/plain": [
       "<matplotlib.figure.Figure at 0x2b0fc0c62090>"
      ]
     },
     "metadata": {},
     "output_type": "display_data"
    }
   ],
   "source": [
    "d = (ds_norm[:,:,200,200] <= -2.)\n",
    "d.plot()"
   ]
  },
  {
   "cell_type": "code",
   "execution_count": 33,
   "metadata": {},
   "outputs": [
    {
     "data": {
      "text/plain": [
       "<matplotlib.collections.QuadMesh at 0x2b0fc1b67490>"
      ]
     },
     "execution_count": 33,
     "metadata": {},
     "output_type": "execute_result"
    },
    {
     "data": {
      "image/png": "[encoded data removed]",
      "text/plain": [
       "<matplotlib.figure.Figure at 0x2b0fc17b92d0>"
      ]
     },
     "metadata": {},
     "output_type": "display_data"
    }
   ],
   "source": [
    "toe.plot(vmin=-1,vmax=2)"
   ]
  },
  {
   "cell_type": "code",
   "execution_count": 34,
   "metadata": {},
   "outputs": [
    {
     "data": {
      "text/plain": [
       "array([2000, 2001, 2002, 2003, 2004, 2005, 2006, 2007, 2008, 2009, 2010,\n",
       "       2011, 2012, 2013, 2014, 2015, 2016, 2017, 2018, 2019, 2020, 2021,\n",
       "       2022, 2023, 2024, 2025, 2026, 2027, 2028, 2029, 2030, 2031, 2032,\n",
       "       2033, 2034, 2035, 2036, 2037, 2038, 2039, 2040, 2041, 2042, 2043,\n",
       "       2044, 2045, 2046, 2047, 2048, 2049, 2050, 2051, 2052, 2053, 2054,\n",
       "       2055, 2056, 2057, 2058, 2059, 2060, 2061, 2062, 2063, 2064, 2065,\n",
       "       2066, 2067, 2068, 2069, 2070, 2071, 2072, 2073, 2074, 2075, 2076,\n",
       "       2077, 2078, 2079, 2080, 2081, 2082, 2083, 2084, 2085, 2086, 2087,\n",
       "       2088, 2089, 2090, 2091, 2092, 2093, 2094, 2095, 2096, 2097, 2098,\n",
       "       2099, 2100])"
      ]
     },
     "execution_count": 34,
     "metadata": {},
     "output_type": "execute_result"
    }
   ],
   "source": [
    "trend_year"
   ]
  },
  {
   "cell_type": "code",
   "execution_count": 2,
   "metadata": {},
   "outputs": [
    {
     "data": {
      "text/plain": [
       "array([ 192. ,  192.1,  192.2,  192.3,  192.4,  192.5,  192.6,  192.7,\n",
       "        192.8,  192.9,  193. ,  193.1,  193.2,  193.3,  193.4,  193.5,\n",
       "        193.6,  193.7,  193.8,  193.9,  194. ,  194.1,  194.2,  194.3,\n",
       "        194.4,  194.5,  194.6,  194.7,  194.8,  194.9,  195. ,  195.1,\n",
       "        195.2,  195.3,  195.4,  195.5,  195.6,  195.7,  195.8,  195.9,\n",
       "        196. ,  196.1,  196.2,  196.3,  196.4,  196.5,  196.6,  196.7,\n",
       "        196.8,  196.9,  197. ,  197.1,  197.2,  197.3,  197.4,  197.5,\n",
       "        197.6,  197.7,  197.8,  197.9,  198. ,  198.1,  198.2,  198.3,\n",
       "        198.4,  198.5,  198.6,  198.7,  198.8,  198.9,  199. ,  199.1,\n",
       "        199.2,  199.3,  199.4,  199.5,  199.6,  199.7,  199.8,  199.9,\n",
       "        200. ,  200.1,  200.2,  200.3,  200.4,  200.5,  200.6,  200.7,\n",
       "        200.8,  200.9,  201. ,  201.1,  201.2,  201.3,  201.4,  201.5,\n",
       "        201.6,  201.7,  201.8,  201.9,  202. ,  202.1,  202.2,  202.3,\n",
       "        202.4,  202.5,  202.6,  202.7,  202.8,  202.9,  203. ,  203.1,\n",
       "        203.2,  203.3,  203.4,  203.5,  203.6,  203.7,  203.8,  203.9,\n",
       "        204. ,  204.1,  204.2,  204.3,  204.4,  204.5,  204.6,  204.7,\n",
       "        204.8,  204.9,  205. ,  205.1,  205.2,  205.3,  205.4,  205.5,\n",
       "        205.6,  205.7,  205.8,  205.9,  206. ,  206.1,  206.2,  206.3,\n",
       "        206.4,  206.5,  206.6,  206.7,  206.8,  206.9,  207. ,  207.1,\n",
       "        207.2,  207.3,  207.4,  207.5,  207.6,  207.7,  207.8,  207.9,\n",
       "        208. ,  208.1,  208.2,  208.3,  208.4,  208.5,  208.6,  208.7,\n",
       "        208.8,  208.9,  209. ,  209.1,  209.2,  209.3,  209.4,  209.5,\n",
       "        209.6,  209.7,  209.8,  209.9,  210. ])"
      ]
     },
     "execution_count": 2,
     "metadata": {},
     "output_type": "execute_result"
    }
   ],
   "source": [
    "year = np.arange(1920,2101)/10.\n",
    "year"
   ]
  },
  {
   "cell_type": "code",
   "execution_count": null,
   "metadata": {},
   "outputs": [],
   "source": []
  }
 ],
 "metadata": {
  "kernelspec": {
   "display_name": "Python 2",
   "language": "python",
   "name": "python2"
  },
  "language_info": {
   "codemirror_mode": {
    "name": "ipython",
    "version": 2
   },
   "file_extension": ".py",
   "mimetype": "text/x-python",
   "name": "python",
   "nbconvert_exporter": "python",
   "pygments_lexer": "ipython2",
   "version": "2.7.13"
  }
 },
 "nbformat": 4,
 "nbformat_minor": 2
}
