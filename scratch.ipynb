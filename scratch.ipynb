{
 "cells": [
  {
   "cell_type": "code",
   "execution_count": 32,
   "metadata": {},
   "outputs": [],
   "source": [
    "import numpy as np"
   ]
  },
  {
   "cell_type": "code",
   "execution_count": 33,
   "metadata": {},
   "outputs": [
    {
     "name": "stdout",
     "output_type": "stream",
     "text": [
      "[ 13.74619919  42.23612198  72.20190223  13.87003704  93.08994944\n",
      "  39.66189759  42.11751004  73.53975118  53.04119637  30.2663611 ]\n",
      "[ 5.57386209  6.13933142  5.17240958  2.64894555  1.58139145  7.07991298\n",
      "  1.34095879  6.4679584   3.28590974  6.12963958]\n",
      "[  8.17233711  36.09679056  67.02949265  11.2210915   91.50855799\n",
      "  32.58198461  40.77655126  67.07179278  49.75528663  24.13672152]\n",
      "[ 9.92313776  7.3392318   3.8937805   3.0149675   0.41592011  0.22904358\n",
      "  9.75628831  7.91147492  7.34352249  0.07895635]\n"
     ]
    }
   ],
   "source": [
    "rand = lambda n: np.abs(np.random.rand(n)*10)\n",
    "o2sat = rand(10)*10\n",
    "o2 = rand(10)\n",
    "iage = rand(10)\n",
    "aou = o2sat - o2\n",
    "our = aou/iage\n",
    "print o2sat\n",
    "print o2\n",
    "print aou\n",
    "print iage"
   ]
  },
  {
   "cell_type": "code",
   "execution_count": 34,
   "metadata": {},
   "outputs": [
    {
     "name": "stdout",
     "output_type": "stream",
     "text": [
      "42.8350606615\n"
     ]
    }
   ],
   "source": [
    "print aou.mean()"
   ]
  },
  {
   "cell_type": "code",
   "execution_count": 35,
   "metadata": {},
   "outputs": [
    {
     "name": "stdout",
     "output_type": "stream",
     "text": [
      "42.8350606615\n"
     ]
    }
   ],
   "source": [
    "print o2sat.mean() - o2.mean()"
   ]
  },
  {
   "cell_type": "code",
   "execution_count": 36,
   "metadata": {},
   "outputs": [
    {
     "name": "stdout",
     "output_type": "stream",
     "text": [
      "[   0.82356381    4.91833363   17.21450212    3.72179518  220.01474889\n",
      "  142.25233673    4.17951479    8.47778618    6.77539787  305.69704479]\n"
     ]
    }
   ],
   "source": [
    "print our"
   ]
  },
  {
   "cell_type": "code",
   "execution_count": 37,
   "metadata": {},
   "outputs": [
    {
     "name": "stdout",
     "output_type": "stream",
     "text": [
      "[  8.17233711  36.09679056  67.02949265  11.2210915   91.50855799\n",
      "  32.58198461  40.77655126  67.07179278  49.75528663  24.13672152]\n",
      "42.8350606615\n"
     ]
    }
   ],
   "source": [
    "print aou\n",
    "print aou.mean()"
   ]
  },
  {
   "cell_type": "code",
   "execution_count": 38,
   "metadata": {},
   "outputs": [
    {
     "name": "stdout",
     "output_type": "stream",
     "text": [
      "[  8.17233711  36.09679056  67.02949265  11.2210915   91.50855799\n",
      "  32.58198461  40.77655126  67.07179278  49.75528663  24.13672152]\n"
     ]
    }
   ],
   "source": [
    "print our * iage"
   ]
  },
  {
   "cell_type": "code",
   "execution_count": 39,
   "metadata": {},
   "outputs": [
    {
     "name": "stdout",
     "output_type": "stream",
     "text": [
      "356.368590163\n"
     ]
    }
   ],
   "source": [
    "print our.mean()*iage.mean()"
   ]
  },
  {
   "cell_type": "code",
   "execution_count": null,
   "metadata": {},
   "outputs": [],
   "source": []
  },
  {
   "cell_type": "code",
   "execution_count": null,
   "metadata": {},
   "outputs": [],
   "source": []
  }
 ],
 "metadata": {
  "kernelspec": {
   "display_name": "Python 2",
   "language": "python",
   "name": "python2"
  },
  "language_info": {
   "codemirror_mode": {
    "name": "ipython",
    "version": 2
   },
   "file_extension": ".py",
   "mimetype": "text/x-python",
   "name": "python",
   "nbconvert_exporter": "python",
   "pygments_lexer": "ipython2",
   "version": "2.7.13"
  }
 },
 "nbformat": 4,
 "nbformat_minor": 2
}
