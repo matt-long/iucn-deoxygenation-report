{
 "cells": [
  {
   "cell_type": "code",
   "execution_count": 3,
   "metadata": {},
   "outputs": [],
   "source": [
    "%matplotlib inline\n",
    "from config_calc import *\n",
    "\n",
    "import matplotlib\n",
    "import matplotlib.pyplot as plt\n",
    "from cartopy.util import add_cyclic_point\n",
    "import matplotlib.gridspec as gridspec\n",
    "plt.rcParams['mathtext.default']='regular'\n",
    "\n",
    "import cmocean\n",
    "import plot_tools\n",
    "import proc_cesm_le\n",
    "\n",
    "import statsmodels.api as sm\n",
    "from scipy import stats\n",
    "import scipy.io as sio"
   ]
  },
  {
   "cell_type": "code",
   "execution_count": 25,
   "metadata": {},
   "outputs": [
    {
     "name": "stdout",
     "output_type": "stream",
     "text": [
      "Neff\n",
      "(5, 3)\n",
      "\n",
      "oxy_trend_gm\n",
      "(5, 3)\n",
      "\n",
      "o2gm\n",
      "(5, 40, 3)\n",
      "\n",
      "t1\n",
      "(40,)\n",
      "\n",
      "r2_gm\n",
      "(5, 3)\n",
      "\n",
      "tval95_gm\n",
      "(5, 3)\n",
      "\n",
      "stderr_trend_gm\n",
      "(5, 3)\n",
      "\n"
     ]
    }
   ],
   "source": [
    "matdata = sio.loadmat('data/global_o2_trend.mat',squeeze_me=True)\n",
    "for k in matdata.keys():\n",
    "    if '__' in k: continue\n",
    "    print k\n",
    "    print matdata[k].shape\n",
    "    print"
   ]
  },
  {
   "cell_type": "code",
   "execution_count": 27,
   "metadata": {},
   "outputs": [
    {
     "name": "stdout",
     "output_type": "stream",
     "text": [
      "<xarray.Dataset>\n",
      "Dimensions:  (basin: 3, depth: 5, time: 40)\n",
      "Coordinates:\n",
      "  * depth    (depth) float64 100.0 200.0 400.0 700.0 1e+03\n",
      "  * basin    (basin) |S8 'Global' 'Pacific' 'Atlantic'\n",
      "  * time     (time) float64 1.97e+03 1.971e+03 1.972e+03 1.973e+03 1.974e+03 ...\n",
      "Data variables:\n",
      "    trend    (depth, time, basin) float64 2.249 4.301 -0.6601 0.9426 0.5179 ...\n"
     ]
    }
   ],
   "source": [
    "depth = xr.DataArray(np.array([100.,200.,400.,700.,1000.]),dims=('depth'),\n",
    "                    coords={'depth':np.array([100.,200.,400.,700.,1000.])})\n",
    "\n",
    "basin = xr.DataArray(np.array(['Global','Pacific','Atlantic']),dims=('basin'),\n",
    "                    coords={'basin':np.array(['Global','Pacific','Atlantic'])})\n",
    "\n",
    "time = xr.DataArray(matdata['t1'],dims=('time'),coords={'time':matdata['t1']})\n",
    "\n",
    "obs_trend = xr.DataArray(matdata['o2gm'],dims=('depth','time','basin'),\n",
    "                     coords={'depth':depth,'time':time,'basin':basin})\n",
    "\n",
    "obs = xr.Dataset({'trend':obs_trend})\n",
    "print obs"
   ]
  },
  {
   "cell_type": "code",
   "execution_count": 23,
   "metadata": {},
   "outputs": [
    {
     "name": "stdout",
     "output_type": "stream",
     "text": [
      "stderr_trend_le\n",
      "(5, 3, 34)\n",
      "\n",
      "stderr_trend_lex\n",
      "(180, 5, 3, 34)\n",
      "\n",
      "oxy_trend_lex\n",
      "(180, 5, 3, 34)\n",
      "\n",
      "tval95_lex\n",
      "(180, 5, 3, 34)\n",
      "\n",
      "r2_le\n",
      "(5, 3, 34)\n",
      "\n",
      "tval95_le\n",
      "(5, 3, 34)\n",
      "\n",
      "r2_lex\n",
      "(180, 5, 3, 34)\n",
      "\n",
      "o2le\n",
      "(5, 40, 3, 34)\n",
      "\n",
      "oxy_trend_le\n",
      "(5, 3, 34)\n",
      "\n",
      "o2lex\n",
      "(180, 5, 40, 3, 34)\n",
      "\n"
     ]
    }
   ],
   "source": [
    "matdata = sio.loadmat('data/o2trend_le.mat')\n",
    "for k in matdata.keys():\n",
    "    if '__' in k: continue\n",
    "    print k\n",
    "    print matdata[k].shape\n",
    "    print"
   ]
  },
  {
   "cell_type": "code",
   "execution_count": null,
   "metadata": {},
   "outputs": [],
   "source": [
    "cesm_trend = xr.DataArray(matdata['o2le'],dims=('time',''))"
   ]
  }
 ],
 "metadata": {
  "kernelspec": {
   "display_name": "Python 2",
   "language": "python",
   "name": "python2"
  },
  "language_info": {
   "codemirror_mode": {
    "name": "ipython",
    "version": 2
   },
   "file_extension": ".py",
   "mimetype": "text/x-python",
   "name": "python",
   "nbconvert_exporter": "python",
   "pygments_lexer": "ipython2",
   "version": "2.7.13"
  }
 },
 "nbformat": 4,
 "nbformat_minor": 2
}
