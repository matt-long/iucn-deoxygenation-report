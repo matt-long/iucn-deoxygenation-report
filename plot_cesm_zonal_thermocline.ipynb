{
 "cells": [
  {
   "cell_type": "code",
   "execution_count": null,
   "metadata": {},
   "outputs": [],
   "source": [
    "%matplotlib inline\n",
    "from config_calc import *\n",
    "from glob import glob\n",
    "import matplotlib.pyplot as plt\n",
    "plt.rcParams['mathtext.default']='regular'\n",
    "import matplotlib.colors as colors\n",
    "\n",
    "import cmocean\n",
    "import colorbrewer\n",
    "import plot_tools\n",
    "\n",
    "from config_calc import *\n",
    "                                    \n",
    "varlist = ['O2','AOU'] #,'TEMP']\n",
    "op = 'ann_dft_za'\n",
    "\n",
    "#-- read datasets\n",
    "tr85 = open_ens('tr85',op,varlist)\n",
    "tr45 = open_ens('tr85',op,varlist)"
   ]
  }
 ],
 "metadata": {
  "kernelspec": {
   "display_name": "Python 2",
   "language": "python",
   "name": "python2"
  },
  "language_info": {
   "codemirror_mode": {
    "name": "ipython",
    "version": 2
   },
   "file_extension": ".py",
   "mimetype": "text/x-python",
   "name": "python",
   "nbconvert_exporter": "python",
   "pygments_lexer": "ipython2",
   "version": "2.7.13"
  }
 },
 "nbformat": 4,
 "nbformat_minor": 2
}
