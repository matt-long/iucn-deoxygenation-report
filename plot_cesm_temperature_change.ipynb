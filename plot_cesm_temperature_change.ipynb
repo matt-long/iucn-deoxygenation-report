{
 "cells": [
  {
   "cell_type": "code",
   "execution_count": 1,
   "metadata": {},
   "outputs": [
    {
     "data": {
      "text/plain": [
       "<xarray.Dataset>\n",
       "Dimensions:               (d2: 2, ens: 33, lat_aux_grid: 395, moc_comp: 3, moc_z: 61, nlat: 384, nlon: 320, time: 182, transport_comp: 5, transport_reg: 2, z_t: 60, z_t_150m: 15, z_w: 60, z_w_bot: 60, z_w_top: 60)\n",
       "Coordinates:\n",
       "  * time                  (time) float64 7.01e+05 7.01e+05 7.014e+05 ...\n",
       "  * z_t                   (z_t) float64 500.0 1.5e+03 2.5e+03 3.5e+03 ...\n",
       "  * lat_aux_grid          (lat_aux_grid) float32 -79.4882 -78.9529 -78.4187 ...\n",
       "  * moc_z                 (moc_z) float32 0.0 1000.0 2000.0 3000.0 4000.0 ...\n",
       "  * z_t_150m              (z_t_150m) float32 500.0 1500.0 2500.0 3500.0 ...\n",
       "  * z_w                   (z_w) float32 0.0 1000.0 2000.0 3000.0 4000.0 ...\n",
       "  * z_w_bot               (z_w_bot) float32 1000.0 2000.0 3000.0 4000.0 ...\n",
       "  * z_w_top               (z_w_top) float32 0.0 1000.0 2000.0 3000.0 4000.0 ...\n",
       "Dimensions without coordinates: d2, ens, moc_comp, nlat, nlon, transport_comp, transport_reg\n",
       "Data variables:\n",
       "    ANGLE                 (ens, nlat, nlon) float64 0.0 0.0 0.0 0.0 0.0 0.0 ...\n",
       "    ANGLET                (ens, nlat, nlon) float64 0.0 0.0 0.0 0.0 0.0 0.0 ...\n",
       "    DXT                   (ens, nlat, nlon) float64 1.894e+06 1.893e+06 ...\n",
       "    DXU                   (ens, nlat, nlon) float64 2.397e+06 2.397e+06 ...\n",
       "    DYT                   (ens, nlat, nlon) float64 5.94e+06 5.94e+06 ...\n",
       "    DYU                   (ens, nlat, nlon) float64 5.94e+06 5.94e+06 ...\n",
       "    HT                    (ens, nlat, nlon) float64 0.0 0.0 0.0 0.0 0.0 0.0 ...\n",
       "    HTE                   (ens, nlat, nlon) float64 5.94e+06 5.94e+06 ...\n",
       "    HTN                   (ens, nlat, nlon) float64 2.397e+06 2.397e+06 ...\n",
       "    HU                    (ens, nlat, nlon) float64 0.0 0.0 0.0 0.0 0.0 0.0 ...\n",
       "    HUS                   (ens, nlat, nlon) float64 2.397e+06 2.397e+06 ...\n",
       "    HUW                   (ens, nlat, nlon) float64 5.94e+06 5.94e+06 ...\n",
       "    KMT                   (ens, nlat, nlon) float64 0.0 0.0 0.0 0.0 0.0 0.0 ...\n",
       "    KMU                   (ens, nlat, nlon) float64 0.0 0.0 0.0 0.0 0.0 0.0 ...\n",
       "    REGION_MASK           (ens, nlat, nlon) float64 0.0 0.0 0.0 0.0 0.0 0.0 ...\n",
       "    T0_Kelvin             (ens) float64 273.1 273.1 273.1 273.1 273.1 273.1 ...\n",
       "    TAREA                 (ens, nlat, nlon) float64 1.125e+13 1.125e+13 ...\n",
       "    TLAT                  (ens, nlat, nlon) float64 -79.22 -79.22 -79.22 ...\n",
       "    TLONG                 (ens, nlat, nlon) float64 320.6 321.7 322.8 323.9 ...\n",
       "    UAREA                 (ens, nlat, nlon) float64 1.423e+13 1.423e+13 ...\n",
       "    ULAT                  (ens, nlat, nlon) float64 -78.95 -78.95 -78.95 ...\n",
       "    ULONG                 (ens, nlat, nlon) float64 321.1 322.3 323.4 324.5 ...\n",
       "    cp_air                (ens) float64 1.005e+03 1.005e+03 1.005e+03 ...\n",
       "    cp_sw                 (ens) float64 3.996e+07 3.996e+07 3.996e+07 ...\n",
       "    days_in_norm_year     (ens) float64 365.0 365.0 365.0 365.0 365.0 365.0 ...\n",
       "    dz                    (ens, z_t) float64 1e+03 1e+03 1e+03 1e+03 1e+03 ...\n",
       "    dzw                   (ens, z_w) float64 500.0 1e+03 1e+03 1e+03 1e+03 ...\n",
       "    fwflux_factor         (ens) float64 0.0001 0.0001 0.0001 0.0001 0.0001 ...\n",
       "    grav                  (ens) float64 980.6 980.6 980.6 980.6 980.6 980.6 ...\n",
       "    heat_to_PW            (ens) float64 4.186e-15 4.186e-15 4.186e-15 ...\n",
       "    hflux_factor          (ens) float64 2.439e-05 2.439e-05 2.439e-05 ...\n",
       "    latent_heat_fusion    (ens) float64 3.337e+09 3.337e+09 3.337e+09 ...\n",
       "    latent_heat_vapor     (ens) float64 2.501e+06 2.501e+06 2.501e+06 ...\n",
       "    mass_to_Sv            (ens) float64 1e-12 1e-12 1e-12 1e-12 1e-12 1e-12 ...\n",
       "    moc_components        (ens, moc_comp) |S256 'Eulerian Mean' ...\n",
       "    momentum_factor       (ens) float64 10.0 10.0 10.0 10.0 10.0 10.0 10.0 ...\n",
       "    nsurface_t            (ens) float64 8.621e+04 8.621e+04 8.621e+04 ...\n",
       "    nsurface_u            (ens) float64 8.305e+04 8.305e+04 8.305e+04 ...\n",
       "    ocn_ref_salinity      (ens) float64 34.7 34.7 34.7 34.7 34.7 34.7 34.7 ...\n",
       "    omega                 (ens) float64 7.292e-05 7.292e-05 7.292e-05 ...\n",
       "    ppt_to_salt           (ens) float64 0.001 0.001 0.001 0.001 0.001 0.001 ...\n",
       "    radius                (ens) float64 6.371e+08 6.371e+08 6.371e+08 ...\n",
       "    rho_air               (ens) float64 1.292 1.292 1.292 1.292 1.292 1.292 ...\n",
       "    rho_fw                (ens) float64 1.0 1.0 1.0 1.0 1.0 1.0 1.0 1.0 1.0 ...\n",
       "    rho_sw                (ens) float64 1.026 1.026 1.026 1.026 1.026 1.026 ...\n",
       "    salinity_factor       (ens) float64 -0.00347 -0.00347 -0.00347 -0.00347 ...\n",
       "    salt_to_Svppt         (ens) float64 1e-09 1e-09 1e-09 1e-09 1e-09 1e-09 ...\n",
       "    salt_to_mmday         (ens) float64 3.154e+05 3.154e+05 3.154e+05 ...\n",
       "    salt_to_ppt           (ens) float64 1e+03 1e+03 1e+03 1e+03 1e+03 1e+03 ...\n",
       "    sea_ice_salinity      (ens) float64 4.0 4.0 4.0 4.0 4.0 4.0 4.0 4.0 4.0 ...\n",
       "    sflux_factor          (ens) float64 0.1 0.1 0.1 0.1 0.1 0.1 0.1 0.1 0.1 ...\n",
       "    sound                 (ens) float64 1.5e+05 1.5e+05 1.5e+05 1.5e+05 ...\n",
       "    stefan_boltzmann      (ens) float64 5.67e-08 5.67e-08 5.67e-08 5.67e-08 ...\n",
       "    transport_components  (ens, transport_comp) |S256 'Total' ...\n",
       "    transport_regions     (ens, transport_reg) |S256 'Global Ocean - Marginal Seas' ...\n",
       "    vonkar                (ens) float64 0.4 0.4 0.4 0.4 0.4 0.4 0.4 0.4 0.4 ...\n",
       "    TEMP                  (ens, time, z_t, nlat, nlon) float64 nan nan nan ...\n",
       "    time_bound            (ens, time, d2) float64 7.01e+05 7.01e+05 nan nan ...\n",
       "    year                  (ens, time) float64 1.92e+03 nan 1.921e+03 ...\n",
       "    PD                    (ens, time, z_t, nlat, nlon) float64 nan nan nan ..."
      ]
     },
     "execution_count": 1,
     "metadata": {},
     "output_type": "execute_result"
    }
   ],
   "source": [
    "%matplotlib inline\n",
    "\n",
    "import matplotlib.pyplot as plt\n",
    "plt.rcParams['mathtext.default']='regular'\n",
    "import cmocean\n",
    "import matplotlib.gridspec as gridspec\n",
    "from cartopy.util import add_cyclic_point\n",
    "import numpy as np\n",
    "import xarray as xr\n",
    "\n",
    "from config_calc import *\n",
    "import proc_cesm_le\n",
    "import plot_tools\n",
    "\n",
    "\n",
    "tr85 = proc_cesm_le.open_ens('tr85','ann_dft',['TEMP','PD'])\n",
    "tr45 = proc_cesm_le.open_ens('tr45','ann_dft',['TEMP','PD'])\n",
    "\n",
    "tr85"
   ]
  },
  {
   "cell_type": "code",
   "execution_count": null,
   "metadata": {},
   "outputs": [],
   "source": [
    "tr85a = tr85.mean(dim='ens')\n",
    "tr45a = tr45.mean(dim='ens')\n",
    "tr85a\n"
   ]
  },
  {
   "cell_type": "code",
   "execution_count": null,
   "metadata": {},
   "outputs": [
    {
     "name": "stdout",
     "output_type": "stream",
     "text": [
      "[ -2.00000000e+00  -1.90000000e+00  -1.80000000e+00  -1.70000000e+00\n",
      "  -1.60000000e+00  -1.50000000e+00  -1.40000000e+00  -1.30000000e+00\n",
      "  -1.20000000e+00  -1.10000000e+00  -1.00000000e+00  -9.00000000e-01\n",
      "  -8.00000000e-01  -7.00000000e-01  -6.00000000e-01  -5.00000000e-01\n",
      "  -4.00000000e-01  -3.00000000e-01  -2.00000000e-01  -1.00000000e-01\n",
      "   1.77635684e-15   1.00000000e-01   2.00000000e-01   3.00000000e-01\n",
      "   4.00000000e-01   5.00000000e-01   6.00000000e-01   7.00000000e-01\n",
      "   8.00000000e-01   9.00000000e-01   1.00000000e+00   1.10000000e+00\n",
      "   1.20000000e+00   1.30000000e+00   1.40000000e+00   1.50000000e+00\n",
      "   1.60000000e+00   1.70000000e+00   1.80000000e+00   1.90000000e+00\n",
      "   2.00000000e+00]\n",
      "(384, 320)\n"
     ]
    }
   ],
   "source": [
    "#reload(plot_tools)\n",
    "cmap = cmocean.cm.balance #'Blues_r'\n",
    "units = '$^\\circ$C'\n",
    "levels = np.arange(-2.,2.1,0.1)\n",
    "print levels\n",
    "\n",
    "#matplotlib.rcParams['contour.negative_linestyle'] = 'solid'\n",
    "\n",
    "plot_name = os.path.join(diro['fig'],'cesm-temperature-change-100m.pdf')\n",
    "\n",
    "fig=plt.figure(figsize=(10, 8),dpi=300)\n",
    "gs = gridspec.GridSpec(2,1)\n",
    "\n",
    "norm = plot_tools.MidPointNorm(midpoint=0.0)\n",
    "contour_specs = {'levels':levels,'cmap':cmap,'extend':'max','norm':norm}\n",
    "\n",
    "baseline = tr85a.TEMP[0:20,0,:,:].mean(dim='time')\n",
    "print baseline.shape\n",
    "\n",
    "ds = tr85a.isel(time=-1,z_t=0)\n",
    "print ds\n",
    "field = ds.TEMP.values\n",
    "print field.shape\n",
    "exit()\n",
    "field = field - baseline\n",
    "\n",
    "lon,lat,z= plot_tools.adjust_pop_grid(tr85.TLONG.values,tr85.TLAT.values,field)\n",
    "        \n",
    "obj = plot_tools.canvas_map_contour_overlay(lon,lat,z,\n",
    "                                            contour_specs,\n",
    "                                            units = units,\n",
    "                                            fig=fig,\n",
    "                                            gridspec=gs,\n",
    "                                            row=0,col=0)\n",
    "plt.savefig(plot_name,bbox_inches='tight')"
   ]
  },
  {
   "cell_type": "code",
   "execution_count": null,
   "metadata": {},
   "outputs": [],
   "source": []
  },
  {
   "cell_type": "code",
   "execution_count": null,
   "metadata": {},
   "outputs": [],
   "source": [
    "u = tr85a.sel(z_t=slice(0,50e2)).mean(dim='z_t')\n",
    "l = tr85a.sel(z_t=slice(100e2,200e2)).mean(dim='z_t')\n",
    "print u\n",
    "print l"
   ]
  }
 ],
 "metadata": {
  "kernelspec": {
   "display_name": "Python 2",
   "language": "python",
   "name": "python2"
  },
  "language_info": {
   "codemirror_mode": {
    "name": "ipython",
    "version": 2
   },
   "file_extension": ".py",
   "mimetype": "text/x-python",
   "name": "python",
   "nbconvert_exporter": "python",
   "pygments_lexer": "ipython2",
   "version": "2.7.13"
  }
 },
 "nbformat": 4,
 "nbformat_minor": 2
}
